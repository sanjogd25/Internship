{
 "cells": [
  {
   "cell_type": "markdown",
   "id": "945e8618",
   "metadata": {},
   "source": [
    "# 1. a python program to scrape data for “Data Analyst” Job position in “Bangalore” location. You have to scrape the job-title, job-location, company_name, experience_required."
   ]
  },
  {
   "cell_type": "code",
   "execution_count": null,
   "id": "c4f8b918",
   "metadata": {},
   "outputs": [],
   "source": []
  },
  {
   "cell_type": "code",
   "execution_count": null,
   "id": "2def3c9d",
   "metadata": {},
   "outputs": [],
   "source": [
    "! pip install selenium"
   ]
  },
  {
   "cell_type": "code",
   "execution_count": null,
   "id": "b88c5c05",
   "metadata": {},
   "outputs": [],
   "source": [
    "#importing all required libraries\n",
    "import selenium\n",
    "import pandas as pd\n",
    "from selenium import webdriver\n",
    "import warnings\n",
    "warnings.filterwarnings(\"ignore\")\n",
    "import time"
   ]
  },
  {
   "cell_type": "code",
   "execution_count": null,
   "id": "7bbd079c",
   "metadata": {},
   "outputs": [],
   "source": [
    "#Lets first connect to the web driver\n",
    "driver=webdriver.Chrome(r\"C:\\chromedriver.exe\")"
   ]
  },
  {
   "cell_type": "code",
   "execution_count": null,
   "id": "63601d69",
   "metadata": {},
   "outputs": [],
   "source": [
    "driver=webdriver.Chrome(\"chromedriver.exe\")\n",
    "time.sleep(2)"
   ]
  },
  {
   "cell_type": "code",
   "execution_count": null,
   "id": "dd93173d",
   "metadata": {},
   "outputs": [],
   "source": [
    "#Opening up naukri.com website on automated chrome window\n",
    "driver.get('https://www.naukri.com/')"
   ]
  },
  {
   "cell_type": "code",
   "execution_count": null,
   "id": "9ffd58cb",
   "metadata": {},
   "outputs": [],
   "source": [
    "#Find elements for job search bar\n",
    "search_field_designation=driver.find_element_by_xpath(\"/html/body/div/div[2]/div[3]/div/div/div[1]/div/div/div/input\")   #Job search bar\n",
    "search_field_designation.send_keys(\"Data Analyst\")"
   ]
  },
  {
   "cell_type": "code",
   "execution_count": null,
   "id": "c8c37de7",
   "metadata": {},
   "outputs": [],
   "source": [
    "#Entering the location using Xpath\n",
    "search_field_location=driver.find_element_by_xpath(\"/html/body/div/div[2]/div[3]/div/div/div[3]/div/div/div/input\")   #Job search bar\n",
    "search_field_location.send_keys(\"Bangalore\")"
   ]
  },
  {
   "cell_type": "code",
   "execution_count": null,
   "id": "09fcf10e",
   "metadata": {},
   "outputs": [],
   "source": [
    "#Clicking on the search button\n",
    "search_button=driver.find_element_by_xpath(\"/html/body/div/div[2]/div[3]/div/div/div[6]\")\n",
    "search_button.click()"
   ]
  },
  {
   "cell_type": "code",
   "execution_count": null,
   "id": "796db437",
   "metadata": {},
   "outputs": [],
   "source": [
    "#Declaring the variables\n",
    "job_titles=[]\n",
    "company_name=[]\n",
    "location_list=[]\n",
    "experience_list=[]\n",
    "#Extract all the tags having the job titles\n",
    "titles_tags=driver.find_elements_by_xpath(\"//a[@class='title fw500 ellipsis']\")\n",
    "for i in titles_tags:\n",
    "    job_titles.append(i.text)"
   ]
  },
  {
   "cell_type": "code",
   "execution_count": null,
   "id": "d8bbe240",
   "metadata": {},
   "outputs": [],
   "source": [
    "#Extracting the data of company Name\n",
    "company_tags=driver.find_elements_by_xpath('//a[@class=\"subTitle ellipsis fleft\"]')\n",
    "for i in company_tags:\n",
    "    company_name.append(i.text)"
   ]
  },
  {
   "cell_type": "code",
   "execution_count": null,
   "id": "9dd034a1",
   "metadata": {},
   "outputs": [],
   "source": [
    "#Extracting the details of locations\n",
    "location_tags=driver.find_elements_by_xpath('//li[@class=\"fleft grey-text br2 placeHolderLi location\"]/span')\n",
    "for i in location_tags:\n",
    "   # title=i.text\n",
    "    location_list.append(i.text)\n",
    "location_list.pop(3)\n",
    "location_list.pop(8)"
   ]
  },
  {
   "cell_type": "code",
   "execution_count": null,
   "id": "7c3b3958",
   "metadata": {},
   "outputs": [],
   "source": [
    "#Extracting the details of Experience\n",
    "experience_tags=driver.find_elements_by_xpath('//li[@class=\"fleft grey-text br2 placeHolderLi experience\"]/span')\n",
    "for i in experience_tags:\n",
    "   # title=i.text\n",
    "    experience_list.append(i.text)"
   ]
  },
  {
   "cell_type": "code",
   "execution_count": null,
   "id": "bc54e60d",
   "metadata": {},
   "outputs": [],
   "source": [
    "#Creating the data frame.\n",
    "jobs=pd.DataFrame({'Title':job_titles[:10],'Name':company_name[:10],'Location':location_list[:10],'Experience':experience_list[:10]})\n",
    "jobs"
   ]
  },
  {
   "cell_type": "code",
   "execution_count": null,
   "id": "ca58f68a",
   "metadata": {},
   "outputs": [],
   "source": [
    "#Closing the automated chrome window\n",
    "driver.close()"
   ]
  },
  {
   "cell_type": "code",
   "execution_count": null,
   "id": "61eaa808",
   "metadata": {},
   "outputs": [],
   "source": []
  },
  {
   "cell_type": "code",
   "execution_count": null,
   "id": "c1fe894e",
   "metadata": {},
   "outputs": [],
   "source": []
  },
  {
   "cell_type": "markdown",
   "id": "c7b99394",
   "metadata": {},
   "source": [
    "# 2. a python program to scrape data for “Data Scientist” Job position in “Bangalore” location. You have to scrape the job-title, job-location, company_name. "
   ]
  },
  {
   "cell_type": "code",
   "execution_count": null,
   "id": "7423af15",
   "metadata": {},
   "outputs": [],
   "source": [
    "driver=webdriver.Chrome(\"chromedriver.exe\")\n",
    "time.sleep(2)"
   ]
  },
  {
   "cell_type": "code",
   "execution_count": null,
   "id": "06c782cc",
   "metadata": {},
   "outputs": [],
   "source": [
    "#Opening up naukri.com website on automated chrome window\n",
    "driver.get('https://www.naukri.com/')"
   ]
  },
  {
   "cell_type": "code",
   "execution_count": null,
   "id": "664874d9",
   "metadata": {},
   "outputs": [],
   "source": [
    "#Find elements for job search bar\n",
    "search_field_designation=driver.find_element_by_xpath(\"/html/body/div/div[2]/div[3]/div/div/div[1]/div/div/div/input\")   #Job search bar\n",
    "search_field_designation.send_keys(\"Data Scientist\")"
   ]
  },
  {
   "cell_type": "code",
   "execution_count": null,
   "id": "f0304a1a",
   "metadata": {},
   "outputs": [],
   "source": [
    "#Entering the location using Xpath\n",
    "search_field_location=driver.find_element_by_xpath(\"/html/body/div/div[2]/div[3]/div/div/div[3]/div/div/div/input\")   #Job search bar\n",
    "search_field_location.send_keys(\"Bangalore\")"
   ]
  },
  {
   "cell_type": "code",
   "execution_count": null,
   "id": "b241f8d5",
   "metadata": {},
   "outputs": [],
   "source": [
    "#Clicking on the search button\n",
    "search_button=driver.find_element_by_xpath(\"/html/body/div/div[2]/div[3]/div/div/div[6]\")\n",
    "search_button.click()"
   ]
  },
  {
   "cell_type": "code",
   "execution_count": null,
   "id": "e1df1191",
   "metadata": {},
   "outputs": [],
   "source": [
    "#Declaring the variables\n",
    "job_titles=[]\n",
    "company_name=[]\n",
    "location_list=[]\n",
    "experience_list=[]\n",
    "#Extract all the tags having the job titles\n",
    "titles_tags=driver.find_elements_by_xpath(\"//a[@class='title fw500 ellipsis']\")\n",
    "for i in titles_tags:\n",
    "    job_titles.append(i.text)"
   ]
  },
  {
   "cell_type": "code",
   "execution_count": null,
   "id": "869c251b",
   "metadata": {},
   "outputs": [],
   "source": [
    "#Extracting the company names\n",
    "company_tags=driver.find_elements_by_xpath('//a[@class=\"subTitle ellipsis fleft\"]')\n",
    "for i in company_tags:\n",
    "    company_name.append(i.text)"
   ]
  },
  {
   "cell_type": "code",
   "execution_count": null,
   "id": "b97298bd",
   "metadata": {},
   "outputs": [],
   "source": [
    "#Extracting the locations\n",
    "location_tags=driver.find_elements_by_xpath('//li[@class=\"fleft grey-text br2 placeHolderLi location\"]/span')\n",
    "for i in location_tags:\n",
    "   # title=i.text\n",
    "    location_list.append(i.text)\n",
    "location_list.pop(3)"
   ]
  },
  {
   "cell_type": "code",
   "execution_count": null,
   "id": "a23bc1b1",
   "metadata": {},
   "outputs": [],
   "source": [
    "#Creating the data frame\n",
    "jobs=pd.DataFrame({'Title':job_titles[:10],'Name':company_name[:10],'Location':location_list[:10]})\n",
    "jobs"
   ]
  },
  {
   "cell_type": "code",
   "execution_count": null,
   "id": "37081a71",
   "metadata": {},
   "outputs": [],
   "source": [
    "#To close the automated chrome window\n",
    "driver.close()"
   ]
  },
  {
   "cell_type": "code",
   "execution_count": null,
   "id": "ee885fb8",
   "metadata": {},
   "outputs": [],
   "source": []
  },
  {
   "cell_type": "code",
   "execution_count": null,
   "id": "8a9af944",
   "metadata": {},
   "outputs": [],
   "source": []
  },
  {
   "cell_type": "markdown",
   "id": "e77d1759",
   "metadata": {},
   "source": [
    "# 3: In this question you have to scrape data using the filters available on the webpage as shown below:\n",
    "You have to use the location and salary filter.\n",
    "You have to scrape data for “Data Scientist” designation for first 10 job results. You have to scrape the job-title, job-location, company name, experience required. The location filter to be used is “Delhi/NCR”. The salary filter to be used is “3-6” lakhs"
   ]
  },
  {
   "cell_type": "code",
   "execution_count": null,
   "id": "28b794b2",
   "metadata": {},
   "outputs": [],
   "source": [
    "driver=webdriver.Chrome(\"chromedriver.exe\")\n",
    "time.sleep(2)"
   ]
  },
  {
   "cell_type": "code",
   "execution_count": null,
   "id": "4f3f9056",
   "metadata": {},
   "outputs": [],
   "source": [
    "#Opening up naukri.com website on automated chrome window\n",
    "driver.get('https://www.naukri.com/')"
   ]
  },
  {
   "cell_type": "code",
   "execution_count": null,
   "id": "19b7ed1d",
   "metadata": {},
   "outputs": [],
   "source": [
    "#Find elements for job search bar\n",
    "search_field_designation=driver.find_element_by_xpath(\"/html/body/div/div[2]/div[3]/div/div/div[1]/div/div/div/input\")   #Job search bar\n",
    "search_field_designation.send_keys(\"Data Scientist\")"
   ]
  },
  {
   "cell_type": "code",
   "execution_count": null,
   "id": "f5c6d3f7",
   "metadata": {},
   "outputs": [],
   "source": [
    "#Entering the location using Xpath\n",
    "search_field_location=driver.find_element_by_xpath(\"/html/body/div/div[2]/div[3]/div/div/div[3]/div/div/div/input\")   #Job search bar\n",
    "search_field_location.send_keys(\"Delhi/NCR\")"
   ]
  },
  {
   "cell_type": "code",
   "execution_count": null,
   "id": "7952b5b2",
   "metadata": {},
   "outputs": [],
   "source": [
    "#Clicking on the search button\n",
    "search_button=driver.find_element_by_xpath(\"/html/body/div/div[2]/div[3]/div/div/div[6]\")\n",
    "search_button.click()"
   ]
  },
  {
   "cell_type": "code",
   "execution_count": null,
   "id": "874603db",
   "metadata": {},
   "outputs": [],
   "source": [
    "#Clicking on the Salary filter button\n",
    "salary_button=driver.find_element_by_xpath(\"/html/body/div[1]/div[3]/div[2]/section[1]/div[2]/div[4]/div[2]/div[2]\")\n",
    "salary_button.click()"
   ]
  },
  {
   "cell_type": "code",
   "execution_count": null,
   "id": "27d3351f",
   "metadata": {},
   "outputs": [],
   "source": [
    "#Clicking on the Salary filter button\n",
    "location_button=driver.find_element_by_xpath(\"/html/body/div[1]/div[3]/div[2]/section[1]/div[2]/div[12]/div[2]/div[2]\")\n",
    "location_button.click()"
   ]
  },
  {
   "cell_type": "code",
   "execution_count": null,
   "id": "df930e4d",
   "metadata": {},
   "outputs": [],
   "source": [
    "#Declaring the variables\n",
    "job_titles=[]\n",
    "company_name=[]\n",
    "location_list=[]\n",
    "experience_list=[]\n",
    "#Extract all the tags having the job titles\n",
    "titles_tags=driver.find_elements_by_xpath(\"//a[@class='title fw500 ellipsis']\")\n",
    "for i in titles_tags:\n",
    "    job_titles.append(i.text)"
   ]
  },
  {
   "cell_type": "code",
   "execution_count": null,
   "id": "798e9901",
   "metadata": {},
   "outputs": [],
   "source": [
    "#Extracting the company names\n",
    "company_tags=driver.find_elements_by_xpath('//a[@class=\"subTitle ellipsis fleft\"]')\n",
    "for i in company_tags:\n",
    "    company_name.append(i.text)"
   ]
  },
  {
   "cell_type": "code",
   "execution_count": null,
   "id": "a816172a",
   "metadata": {},
   "outputs": [],
   "source": [
    "#Extracting the locations\n",
    "location_tags=driver.find_elements_by_xpath('//li[@class=\"fleft grey-text br2 placeHolderLi location\"]/span')\n",
    "for i in location_tags:\n",
    "    location_list.append(i.text)"
   ]
  },
  {
   "cell_type": "code",
   "execution_count": null,
   "id": "cb1f8556",
   "metadata": {},
   "outputs": [],
   "source": [
    "#Extracting the experience\n",
    "experience_tags=driver.find_elements_by_xpath('//li[@class=\"fleft grey-text br2 placeHolderLi experience\"]/span')\n",
    "for i in experience_tags:\n",
    "    experience_list.append(i.text)"
   ]
  },
  {
   "cell_type": "code",
   "execution_count": null,
   "id": "da4ee2af",
   "metadata": {},
   "outputs": [],
   "source": [
    "#Creating the data frame\n",
    "jobs=pd.DataFrame({'Title':job_titles[:10],'Name':company_name[:10],'Location':location_list[:10],'Experience':experience_list[:10]})\n",
    "jobs"
   ]
  },
  {
   "cell_type": "code",
   "execution_count": null,
   "id": "7d771a11",
   "metadata": {},
   "outputs": [],
   "source": [
    "#To close the automated chrome window\n",
    "driver.close()"
   ]
  },
  {
   "cell_type": "code",
   "execution_count": null,
   "id": "399b24a5",
   "metadata": {},
   "outputs": [],
   "source": []
  },
  {
   "cell_type": "markdown",
   "id": "b40691aa",
   "metadata": {},
   "source": [
    "# 4. Scrape data of first 100 sunglasses listings on flipkart.com. You have to scrape four attributes:\n",
    "Brand\n",
    "Product Description\n",
    "Price The attributes which you have to scrape is ticked marked in the below image"
   ]
  },
  {
   "cell_type": "code",
   "execution_count": null,
   "id": "36b9ac9e",
   "metadata": {},
   "outputs": [],
   "source": [
    "driver=webdriver.Chrome(\"chromedriver.exe\")\n",
    "time.sleep(2)"
   ]
  },
  {
   "cell_type": "code",
   "execution_count": null,
   "id": "3847bc18",
   "metadata": {},
   "outputs": [],
   "source": [
    "#Opening up naukri.com website on automated chrome window\n",
    "driver.get('https://www.flipkart.com/')"
   ]
  },
  {
   "cell_type": "code",
   "execution_count": null,
   "id": "52541f3d",
   "metadata": {},
   "outputs": [],
   "source": [
    "#Clicking on the Closing pop up window button\n",
    "close_button=driver.find_element_by_xpath(\"/html/body/div[2]/div/div/button\")\n",
    "close_button.click()"
   ]
  },
  {
   "cell_type": "code",
   "execution_count": null,
   "id": "1c188f5e",
   "metadata": {},
   "outputs": [],
   "source": [
    "#Find elements for job search bar\n",
    "search_field=driver.find_element_by_xpath(\"/html/body/div[1]/div/div[1]/div[1]/div[2]/div[2]/form/div/div/input\")   #Job search bar\n",
    "search_field.send_keys(\"Sunglasses\")"
   ]
  },
  {
   "cell_type": "code",
   "execution_count": null,
   "id": "c9062005",
   "metadata": {},
   "outputs": [],
   "source": [
    "#Closing the login pop up window\n",
    "search_button=driver.find_element_by_xpath(\"/html/body/div[1]/div/div[1]/div[1]/div[2]/div[2]/form/div/button\")\n",
    "search_button.click()"
   ]
  },
  {
   "cell_type": "code",
   "execution_count": null,
   "id": "ac0ae7a3",
   "metadata": {},
   "outputs": [],
   "source": [
    "#Declaring the variables\n",
    "brand_name=[]\n",
    "product_details=[]\n",
    "price_list=[]\n",
    "\n",
    "#Extract all the tags having the Brand Name\n",
    "for i in range(0,3):\n",
    "    titles_tags=driver.find_elements_by_xpath(\"//div[@class='_2WkVRV']\")\n",
    "    for i in titles_tags:\n",
    "        brand_name.append(i.text)\n",
    "    next_button=driver.find_element_by_xpath(\"//a[@class='_1LKTO3']\")\n",
    "    next_button.click()\n",
    "    time.sleep(5)"
   ]
  },
  {
   "cell_type": "code",
   "execution_count": null,
   "id": "a9b630af",
   "metadata": {},
   "outputs": [],
   "source": [
    "#Extract all the price tags and details\n",
    "for i in range(0,3):\n",
    "    price_tags=driver.find_elements_by_xpath('//a[@class=\"_3bPFwb\"]')\n",
    "    for i in price_tags:\n",
    "        price_list.append(i.text)\n",
    "    next_button=driver.find_element_by_xpath(\"//a[@class='_1LKTO3']\")\n",
    "    next_button.click()\n",
    "    time.sleep(5)"
   ]
  },
  {
   "cell_type": "code",
   "execution_count": null,
   "id": "e75496a1",
   "metadata": {},
   "outputs": [],
   "source": [
    "#Extract all the tags related to product details\n",
    "for i in range(0,3):\n",
    "    product_tags=driver.find_elements_by_xpath('//a[@class=\"IRpwTa\"]')\n",
    "    for i in product_tags:\n",
    "        product_details.append(i.text)\n",
    "    next_button=driver.find_element_by_xpath(\"//a[@class='_1LKTO3']\")\n",
    "    next_button.click()\n",
    "    time.sleep(5)"
   ]
  },
  {
   "cell_type": "code",
   "execution_count": null,
   "id": "dd76a0c5",
   "metadata": {},
   "outputs": [],
   "source": [
    "#Creating the data frame\n",
    "df=pd.DataFrame({'Brand':brand_name[:100],'Product Details':product_details[:100],'Price':price_list[:100]})\n",
    "df"
   ]
  },
  {
   "cell_type": "code",
   "execution_count": null,
   "id": "425c799e",
   "metadata": {},
   "outputs": [],
   "source": [
    "#Closing the automated chrome window\n",
    "driver.close()"
   ]
  },
  {
   "cell_type": "code",
   "execution_count": null,
   "id": "d684bb16",
   "metadata": {},
   "outputs": [],
   "source": []
  },
  {
   "cell_type": "markdown",
   "id": "82369794",
   "metadata": {},
   "source": [
    "# 5. Scrape 100 reviews data from flipkart.com for iphone11 phone. You have to go the link:\n",
    "https://www.flipkart.com/apple-iphone-11-black-64-gb-includes-earpods-poweradapter/p/itm0f37c2240b217?pid=MOBFKCTSVZAXUHGR&lid=LSTMOBFKCTSVZAXUHGREPBFGI&marketplace"
   ]
  },
  {
   "cell_type": "code",
   "execution_count": null,
   "id": "d2c4fcfd",
   "metadata": {},
   "outputs": [],
   "source": [
    "driver=webdriver.Chrome(\"chromedriver.exe\")\n",
    "time.sleep(2)"
   ]
  },
  {
   "cell_type": "code",
   "execution_count": null,
   "id": "62e35995",
   "metadata": {},
   "outputs": [],
   "source": [
    "url=\"https://www.flipkart.com/apple-iphone-11-black-64-gb-includes-earpods-power-adapter/product-reviews/itm0f37c2240b217?pid=MOBFKCTSVZAXUHGR&lid=LSTMOBFKCTSVZAXUHGREPBFGI&marketplace=FLIPKART\"\n",
    "driver.get(url)"
   ]
  },
  {
   "cell_type": "code",
   "execution_count": null,
   "id": "250a0cb5",
   "metadata": {},
   "outputs": [],
   "source": [
    "#Scraping Data\n",
    "rating=[]\n",
    "review_summary=[]\n",
    "full_review=[]\n",
    "\n",
    "rating_tags=driver.find_elements_by_xpath(\"//div[@class='_3LWZlK _1BLPMq']\")\n",
    "rating_tags[0:10]\n",
    "\n",
    "for i in rating_tags:\n",
    "    score=i.text\n",
    "    rating.append(score)\n",
    "rating[0:10]\n",
    "\n",
    "review_summary_tags=driver.find_elements_by_xpath(\"//p[@class='_2-N8zT']\")\n",
    "review_summary_tags[0:10]\n",
    "\n",
    "for i in review_summary_tags:\n",
    "    summary=i.text\n",
    "    review_summary.append(summary)\n",
    "review_summary[0:10]    \n",
    "\n",
    "full_review_tags=driver.find_elements_by_xpath(\"//div[@class='t-ZTKy']\")\n",
    "full_review_tags[0:10]\n",
    "\n",
    "for i in full_review_tags:\n",
    "    review=i.text\n",
    "    full_review.append(review)\n",
    "full_review[0:10]\n"
   ]
  },
  {
   "cell_type": "code",
   "execution_count": null,
   "id": "fb806e50",
   "metadata": {},
   "outputs": [],
   "source": [
    "#Extracting tags and collecting the data of reviews\n",
    "df = pd.DataFrame()\n",
    "df['Rating']=rating\n",
    "df['Review_summary']=review_summary\n",
    "df['Full_review']=full_review\n",
    "df.head(10)"
   ]
  },
  {
   "cell_type": "code",
   "execution_count": null,
   "id": "0ebbf608",
   "metadata": {},
   "outputs": [],
   "source": [
    "#Closing the automated chrome window\n",
    "driver.close()"
   ]
  },
  {
   "cell_type": "code",
   "execution_count": null,
   "id": "993a34c9",
   "metadata": {},
   "outputs": [],
   "source": []
  },
  {
   "cell_type": "markdown",
   "id": "9a56901f",
   "metadata": {},
   "source": [
    "# 6. Scrape data for first 100 sneakers you find when you visit flipkart.com andsearch for “sneakers” in the search field."
   ]
  },
  {
   "cell_type": "code",
   "execution_count": null,
   "id": "5d9373fd",
   "metadata": {},
   "outputs": [],
   "source": [
    "driver=webdriver.Chrome(\"chromedriver.exe\")\n",
    "time.sleep(2)"
   ]
  },
  {
   "cell_type": "code",
   "execution_count": null,
   "id": "4ec220d5",
   "metadata": {},
   "outputs": [],
   "source": [
    "#Opening up naukri.com website on automated chrome window\n",
    "driver.get('https://www.flipkart.com/')"
   ]
  },
  {
   "cell_type": "code",
   "execution_count": null,
   "id": "f829c05e",
   "metadata": {},
   "outputs": [],
   "source": [
    "#Clicking on the Closing pop up window button\n",
    "close_button=driver.find_element_by_xpath(\"/html/body/div[2]/div/div/button\")\n",
    "close_button.click()"
   ]
  },
  {
   "cell_type": "code",
   "execution_count": null,
   "id": "3aacbc5b",
   "metadata": {},
   "outputs": [],
   "source": [
    "#Find elements for job search bar\n",
    "search_field=driver.find_element_by_xpath(\"/html/body/div[1]/div/div[1]/div[1]/div[2]/div[2]/form/div/div/input\")   #Job search bar\n",
    "search_field.send_keys(\"sneakers\")"
   ]
  },
  {
   "cell_type": "code",
   "execution_count": null,
   "id": "fb813735",
   "metadata": {},
   "outputs": [],
   "source": [
    "#Utilizing the search functionality \n",
    "search_button=driver.find_element_by_xpath(\"/html/body/div[1]/div/div[1]/div[1]/div[2]/div[2]/form/div/button\")\n",
    "search_button.click()"
   ]
  },
  {
   "cell_type": "code",
   "execution_count": null,
   "id": "51a13017",
   "metadata": {},
   "outputs": [],
   "source": [
    "#Declaring the variables\n",
    "brand_name=[]\n",
    "product_details=[]\n",
    "price_list=[]\n",
    "\n",
    "#Extract all the tags having the Brand Name\n",
    "for i in range(0,3):\n",
    "    brand_tags=driver.find_elements_by_xpath(\"//div[@class='_2WkVRV']\")\n",
    "    for i in brand_tags:\n",
    "        brand_name.append(i.text)\n",
    "    next_button=driver.find_element_by_xpath('//a[@class=\"_1LKTO3\"]')\n",
    "    next_button.click()\n",
    "    time.sleep(5)"
   ]
  },
  {
   "cell_type": "code",
   "execution_count": null,
   "id": "a9ddd533",
   "metadata": {},
   "outputs": [],
   "source": [
    "#Extract all the tags related to product details\n",
    "for i in range(0,3):\n",
    "    product_tags=driver.find_elements_by_xpath(\"//div[@class='_2WkVRV']\")\n",
    "    for i in product_tags:\n",
    "        product_details.append(i.text)\n",
    "    next_button=driver.find_element_by_xpath('//a[@class=\"_1LKTO3\"]')\n",
    "    next_button.click()\n",
    "    time.sleep(5)"
   ]
  },
  {
   "cell_type": "code",
   "execution_count": null,
   "id": "8ba8d679",
   "metadata": {},
   "outputs": [],
   "source": [
    "#Extract all the price tags and details\n",
    "for i in range(0,3):\n",
    "    price_tags=driver.find_elements_by_xpath('//a[@class=\"_3bPFwb\"]')\n",
    "    for i in price_tags:\n",
    "        price_list.append(i.text)\n",
    "    next_button=driver.find_element_by_xpath('//a[@class=\"_1LKTO3\"]')\n",
    "    next_button.click()\n",
    "    time.sleep(5)"
   ]
  },
  {
   "cell_type": "code",
   "execution_count": null,
   "id": "b8db3fb1",
   "metadata": {},
   "outputs": [],
   "source": [
    "#Creating the data frame\n",
    "df=pd.DataFrame({'Brand':brand_name[:100],'Product Details':product_details[:100],'Price':price_list[:100]})\n",
    "df"
   ]
  },
  {
   "cell_type": "code",
   "execution_count": null,
   "id": "804d3e8c",
   "metadata": {},
   "outputs": [],
   "source": [
    "#Closing automated chrome window\n",
    "driver.close()"
   ]
  },
  {
   "cell_type": "code",
   "execution_count": null,
   "id": "af31c7a4",
   "metadata": {},
   "outputs": [],
   "source": []
  },
  {
   "cell_type": "markdown",
   "id": "739ab7bd",
   "metadata": {},
   "source": [
    "# 7: Go to the link - https://www.myntra.com/shoes\n",
    "Set Price filter to “Rs. 7149 to Rs. 14099 ” , Color filter to “Black”, as shown in the below image And then scrape First 100 shoes data you get. The data should include “Brand” of the shoes , Short Shoe description, price of the shoe as shown in the below image."
   ]
  },
  {
   "cell_type": "code",
   "execution_count": null,
   "id": "7a30b60e",
   "metadata": {},
   "outputs": [],
   "source": [
    "driver=webdriver.Chrome(\"chromedriver.exe\")\n",
    "time.sleep(2)"
   ]
  },
  {
   "cell_type": "code",
   "execution_count": null,
   "id": "55c39318",
   "metadata": {},
   "outputs": [],
   "source": [
    "driver.get('https://www.myntra.com/shoes')"
   ]
  },
  {
   "cell_type": "code",
   "execution_count": null,
   "id": "4a716ac6",
   "metadata": {},
   "outputs": [],
   "source": [
    "#Set the color filter to BLACK\n",
    "color_filter=driver.find_element_by_xpath(\"/html/body/div[2]/div/div[1]/main/div[3]/div[1]/section/div/div[6]/ul/li[1]/label/div\")\n",
    "color_filter.click()"
   ]
  },
  {
   "cell_type": "code",
   "execution_count": null,
   "id": "2926d8c9",
   "metadata": {},
   "outputs": [],
   "source": [
    "#Set the filter to Rs 7149 to Rs 14099\n",
    "price_filter=driver.find_element_by_xpath(\"/html/body/div[2]/div/div[1]/main/div[3]/div[1]/section/div/div[5]/ul/li[2]/label/div\")\n",
    "price_filter.click()"
   ]
  },
  {
   "cell_type": "code",
   "execution_count": null,
   "id": "06bf5090",
   "metadata": {},
   "outputs": [],
   "source": [
    "#Declaring the variables\n",
    "brand_name=[]\n",
    "product_details=[]\n",
    "price_list=[]\n",
    "page_urls=[]\n",
    "\n",
    "#Collecting the URL of all the pages\n",
    "nxt_page = driver.find_elements_by_xpath(\"//ul[@class='pagination-container']/li/a\")\n",
    "for i in nxt_page:\n",
    "    page_urls.append(i.get_attribute('href'))"
   ]
  },
  {
   "cell_type": "code",
   "execution_count": null,
   "id": "35b8738d",
   "metadata": {},
   "outputs": [],
   "source": [
    "#Extract all the tags having the Brand Name\n",
    "for url in page_urls[:3]:\n",
    "    driver.get(url)\n",
    "    Names=driver.find_elements_by_xpath(\"//div[@class='product-productMetaInfo']/h3\")  #for scrapping shoe brand names\n",
    "    for i in Names:\n",
    "        brand_name.append(i.text)\n",
    "    brand_name   \n",
    "    time.sleep(5)"
   ]
  },
  {
   "cell_type": "code",
   "execution_count": null,
   "id": "10f503b6",
   "metadata": {},
   "outputs": [],
   "source": [
    "#Extract all the tags having the product details\n",
    "for url in page_urls[:2]:\n",
    "    driver.get(url)\n",
    "    product_tags=driver.find_elements_by_xpath('//h4[@class=\"product-product\"]')  #for scrapping shoe Product details\n",
    "    for i in product_tags:\n",
    "        product_details.append(i.text)\n",
    "    product_details   \n",
    "    time.sleep(5)"
   ]
  },
  {
   "cell_type": "code",
   "execution_count": null,
   "id": "45f66367",
   "metadata": {},
   "outputs": [],
   "source": [
    "#Extract all the tags having the price details\n",
    "for url in page_urls[:3]:\n",
    "    driver.get(url)\n",
    "    price_tags=driver.find_elements_by_xpath('//div[@class=\"product-price\"]')  #for scrapping shoe Product details\n",
    "    for i in price_tags:\n",
    "        price_list.append(i.text)\n",
    "    price_list   \n",
    "    time.sleep(5)"
   ]
  },
  {
   "cell_type": "code",
   "execution_count": null,
   "id": "47b43a44",
   "metadata": {},
   "outputs": [],
   "source": [
    "#Creating the data frame\n",
    "df=pd.DataFrame({'Brand':brand_name[:100],'Product Details':product_details[:100],'Price':price_list[:100]})\n",
    "df"
   ]
  },
  {
   "cell_type": "code",
   "execution_count": null,
   "id": "b7ffd4c7",
   "metadata": {},
   "outputs": [],
   "source": [
    "#Closing the automated window\n",
    "driver.close()"
   ]
  },
  {
   "cell_type": "code",
   "execution_count": null,
   "id": "178b878a",
   "metadata": {},
   "outputs": [],
   "source": []
  },
  {
   "cell_type": "code",
   "execution_count": null,
   "id": "ccc33586",
   "metadata": {},
   "outputs": [],
   "source": []
  },
  {
   "cell_type": "markdown",
   "id": "e1d5ab97",
   "metadata": {},
   "source": [
    "# 8. Go to webpage https://www.amazon.in/\n",
    "Enter “Laptop” in the search field and then click the search icon. Then set CPU Type filter to “Intel Core i7” and “Intel Core i9” as shown in the below image:\n",
    "\n",
    "After setting the filters scrape first 10 laptops data. You have to scrape 3 attributesfor each laptop:\n",
    "\n",
    "Title\n",
    "Ratings\n",
    "Price As shown in the below image as the tick marked attributes"
   ]
  },
  {
   "cell_type": "code",
   "execution_count": null,
   "id": "d16b4872",
   "metadata": {},
   "outputs": [],
   "source": [
    "driver=webdriver.Chrome(\"chromedriver.exe\")\n",
    "time.sleep(2)"
   ]
  },
  {
   "cell_type": "code",
   "execution_count": null,
   "id": "b02320ab",
   "metadata": {},
   "outputs": [],
   "source": [
    "#Opening up naukri.com website on automated chrome window\n",
    "driver.get('https://www.amazon.in/')"
   ]
  },
  {
   "cell_type": "code",
   "execution_count": null,
   "id": "07fb0a48",
   "metadata": {},
   "outputs": [],
   "source": [
    "#Find elements for job search bar\n",
    "search_field=driver.find_element_by_xpath('/html/body/div[1]/header/div/div[1]/div[2]/div/form/div[2]/div[1]/input')   #Job search bar\n",
    "search_field.send_keys(\"Laptop\")"
   ]
  },
  {
   "cell_type": "code",
   "execution_count": null,
   "id": "c581a5ce",
   "metadata": {},
   "outputs": [],
   "source": [
    "#Click on search button\n",
    "search_button=driver.find_element_by_xpath(\"/html/body/div[1]/header/div/div[1]/div[2]/div/form/div[3]/div/span/input\")\n",
    "search_button.click()"
   ]
  },
  {
   "cell_type": "code",
   "execution_count": null,
   "id": "b253dfe1",
   "metadata": {},
   "outputs": [],
   "source": [
    "#Set the color filter to to select i7 CPU\n",
    "i7_filter=driver.find_element_by_xpath(\"/html/body/div[2]/div[2]/div[1]/div[2]/div/div[3]/span/div[1]/div/div/div[6]/ul[4]/li[14]/span/a/div/label/i\")\n",
    "i7_filter.click()"
   ]
  },
  {
   "cell_type": "code",
   "execution_count": null,
   "id": "8682bfb4",
   "metadata": {},
   "outputs": [],
   "source": [
    "#Set the color filter to to select i5 CPU\n",
    "i5_filter=driver.find_element_by_xpath(\"/html/body/div[2]/div[2]/div[1]/div[2]/div/div[3]/span/div[1]/div/div/div[6]/ul[4]/li[2]/span/a/div/label/i\")\n",
    "i5_filter.click()"
   ]
  },
  {
   "cell_type": "code",
   "execution_count": null,
   "id": "328a6395",
   "metadata": {},
   "outputs": [],
   "source": [
    "#Declaring the variables\n",
    "title_name=[]\n",
    "ratings=[]\n",
    "price_list=[]\n",
    "\n",
    "#Extract the title of the laptop\n",
    "titles_tags=driver.find_elements_by_xpath('//h2[@class=\"a-size-mini a-spacing-none a-color-base s-line-clamp-2\"]')\n",
    "for i in titles_tags:\n",
    "    title_name.append(i.text)"
   ]
  },
  {
   "cell_type": "code",
   "execution_count": null,
   "id": "a8a49ab3",
   "metadata": {},
   "outputs": [],
   "source": [
    "#Extract the price details\n",
    "price_tags=driver.find_elements_by_xpath('//div[@class=\"a-row a-size-base a-color-base\"]')\n",
    "for i in price_tags:\n",
    "    price_list.append(i.text)"
   ]
  },
  {
   "cell_type": "code",
   "execution_count": null,
   "id": "5b177ded",
   "metadata": {},
   "outputs": [],
   "source": [
    "#Extract the ratings\n",
    "rating_tags=driver.find_elements_by_xpath('//i[@class=\"a-icon a-icon-star-small a-star-small-4 aok-align-bottom\"]')\n",
    "for i in rating_tags:\n",
    "   # title=i.text\n",
    "    ratings.append(i.text)"
   ]
  },
  {
   "cell_type": "code",
   "execution_count": null,
   "id": "9374c897",
   "metadata": {},
   "outputs": [],
   "source": [
    "#Creating the Data Frame. \n",
    "#The output was suggested by the mention after raising the ticket.\n",
    "df=pd.DataFrame({'Title':title_name[:10],'Price':price_list[:10],'Ratings':ratings[:10]})\n",
    "df"
   ]
  },
  {
   "cell_type": "code",
   "execution_count": null,
   "id": "5c92d81e",
   "metadata": {},
   "outputs": [],
   "source": [
    "#Closing the automated window\n",
    "driver.close()"
   ]
  },
  {
   "cell_type": "code",
   "execution_count": null,
   "id": "b8fe9d37",
   "metadata": {},
   "outputs": [],
   "source": []
  },
  {
   "cell_type": "markdown",
   "id": "c3532121",
   "metadata": {},
   "source": [
    "# 9. a python program to scrape data for first 10 job results for Data Scientist Designation in Noida\n",
    "location. You have to scrape company name, No. of days ago when job was posted, Rating of the company. This task will be done in following steps:\n",
    "\n",
    "First get the webpage https://www.ambitionbox.com/\n",
    "Click on the Job option as shown in the image"
   ]
  },
  {
   "cell_type": "code",
   "execution_count": null,
   "id": "f27acb51",
   "metadata": {},
   "outputs": [],
   "source": [
    "driver=webdriver.Chrome(\"chromedriver.exe\")\n",
    "time.sleep(2)"
   ]
  },
  {
   "cell_type": "code",
   "execution_count": null,
   "id": "e34a908b",
   "metadata": {},
   "outputs": [],
   "source": [
    "#Opening up naukri.com website on automated chrome window\n",
    "driver.get('https://www.ambitionbox.com/')"
   ]
  },
  {
   "cell_type": "code",
   "execution_count": null,
   "id": "045d4af0",
   "metadata": {},
   "outputs": [],
   "source": [
    "#Click on the jobs category\n",
    "jobs_button=driver.find_element_by_xpath(\"/html/body/div[1]/nav/nav/a[6]\")\n",
    "jobs_button.click()"
   ]
  },
  {
   "cell_type": "code",
   "execution_count": null,
   "id": "b8b376ef",
   "metadata": {},
   "outputs": [],
   "source": [
    "#Find elements for job search bar\n",
    "search_field=driver.find_element_by_xpath('/html/body/div/div/div/div[2]/div[1]/div[1]/div/div/div/div/span/input')   #Job search bar\n",
    "search_field.send_keys(\"Data Scientist\")"
   ]
  },
  {
   "cell_type": "code",
   "execution_count": null,
   "id": "db33119a",
   "metadata": {},
   "outputs": [],
   "source": [
    "#Click on search button\n",
    "search_button=driver.find_element_by_xpath(\"/html/body/div/div/div/div[2]/div[1]/div[1]/div/div/div/button\")\n",
    "search_button.click()"
   ]
  },
  {
   "cell_type": "code",
   "execution_count": null,
   "id": "8be70b66",
   "metadata": {},
   "outputs": [],
   "source": [
    "#Check mark the location\n",
    "location_button=driver.find_element_by_xpath(\"/html/body/div/div/div/div[2]/div[1]/div[2]/div[1]/div/div/div/div[2]/div[1]\")\n",
    "location_button.click()"
   ]
  },
  {
   "cell_type": "code",
   "execution_count": null,
   "id": "59d953bd",
   "metadata": {},
   "outputs": [],
   "source": [
    "#Enter the location to search\n",
    "search_location=driver.find_element_by_xpath('/html/body/div/div/div/div[2]/div[1]/div[2]/div[1]/div/div/div/div[2]/div[2]/div/div[2]/input')\n",
    "search_location.send_keys(\"Noida\")"
   ]
  },
  {
   "cell_type": "code",
   "execution_count": null,
   "id": "64158036",
   "metadata": {},
   "outputs": [],
   "source": [
    "#Select the location from the dropdown\n",
    "radio_button=driver.find_element_by_xpath(\"/html/body/div/div/div/div[2]/div[1]/div[2]/div[1]/div/div/div/div[2]/div[2]/div/div[3]/div[1]/div[1]/div/input\")\n",
    "radio_button.click()"
   ]
  },
  {
   "cell_type": "code",
   "execution_count": null,
   "id": "82e39b47",
   "metadata": {},
   "outputs": [],
   "source": [
    "#Extract the job details\n",
    "job_details=[]\n",
    "job_tags=driver.find_elements_by_xpath('//div[@class=\"info\"]')\n",
    "for i in job_tags:\n",
    "   # title=i.text\n",
    "    job_details.append(i.text)"
   ]
  },
  {
   "cell_type": "code",
   "execution_count": null,
   "id": "0e26eecb",
   "metadata": {},
   "outputs": [],
   "source": [
    "#Creating the data frame\n",
    "df=pd.DataFrame({'Top 10 Data Scientist Jobs in Noida':job_details[:10]})\n",
    "df"
   ]
  },
  {
   "cell_type": "code",
   "execution_count": null,
   "id": "e46e655c",
   "metadata": {},
   "outputs": [],
   "source": [
    "#Closing the automated chrome window\n",
    "driver.close()"
   ]
  },
  {
   "cell_type": "code",
   "execution_count": null,
   "id": "2cca789f",
   "metadata": {},
   "outputs": [],
   "source": []
  },
  {
   "cell_type": "code",
   "execution_count": null,
   "id": "d57dfa52",
   "metadata": {},
   "outputs": [],
   "source": []
  },
  {
   "cell_type": "markdown",
   "id": "7cb6c34d",
   "metadata": {},
   "source": [
    "# 10. a python program to scrape the salary data for Data Scientist designation.\n",
    "You have to scrape Company name, Number of salaries, Average salary, Minsalary, Max Salary. The above task will be, done as shown in the below steps:\n",
    "\n",
    "First get the webpage https://www.ambitionbox.com/\n",
    "Click on the salaries option as shown in the image."
   ]
  },
  {
   "cell_type": "code",
   "execution_count": null,
   "id": "52896980",
   "metadata": {},
   "outputs": [],
   "source": [
    "! pip3 install selenium"
   ]
  },
  {
   "cell_type": "code",
   "execution_count": null,
   "id": "0b65b6ad",
   "metadata": {},
   "outputs": [],
   "source": [
    "import selenium\n",
    "import pandas as pd\n",
    "from selenium import webdriver\n",
    "import warnings\n",
    "warnings.filterwarnings(\"ignore\")\n",
    "import time"
   ]
  },
  {
   "cell_type": "code",
   "execution_count": null,
   "id": "caff6a32",
   "metadata": {},
   "outputs": [],
   "source": [
    "#Lets first connect to the web driver\n",
    "driver=webdriver.Chrome(r\"C:\\chromedriver.exe\")"
   ]
  },
  {
   "cell_type": "code",
   "execution_count": null,
   "id": "b39cde3e",
   "metadata": {},
   "outputs": [],
   "source": [
    "driver=webdriver.Chrome(\"chromedriver.exe\")\n",
    "time.sleep(2)"
   ]
  },
  {
   "cell_type": "code",
   "execution_count": null,
   "id": "6eca2b5a",
   "metadata": {},
   "outputs": [],
   "source": [
    "#Opening up naukri.com website on automated chrome window\n",
    "driver.get('https://www.ambitionbox.com/')"
   ]
  },
  {
   "cell_type": "code",
   "execution_count": null,
   "id": "7be8ce87",
   "metadata": {},
   "outputs": [],
   "source": [
    "#Click on the Salary category\n",
    "salaries_button=driver.find_element_by_xpath(\"/html/body/div[1]/nav/nav/a[4]\")\n",
    "salaries_button.click()"
   ]
  },
  {
   "cell_type": "code",
   "execution_count": null,
   "id": "d5cfae54",
   "metadata": {},
   "outputs": [],
   "source": [
    "#Search for the designation\n",
    "search_field=driver.find_element_by_xpath('/html/body/div/div/div/div[2]/div/div/div/div[1]/span/input')   #Job search bar\n",
    "search_field.send_keys(\"Data Scientist\")"
   ]
  },
  {
   "cell_type": "code",
   "execution_count": null,
   "id": "727d4667",
   "metadata": {},
   "outputs": [],
   "source": [
    "#Selecting the designation from drop down\n",
    "designation_button=driver.find_element_by_xpath('/html/body/div/div/div/div[2]/div/div/div/button/span')\n",
    "designation_button.click()"
   ]
  },
  {
   "cell_type": "code",
   "execution_count": null,
   "id": "b7ccc72f",
   "metadata": {},
   "outputs": [],
   "source": [
    "#Declaring the variables\n",
    "company_name=[]\n",
    "salary_record=[]\n",
    "exp_details=[]\n",
    "avg_salary=[]\n",
    "min_max_salary=[]\n",
    "min_salary=[]\n",
    "max_salary=[]"
   ]
  },
  {
   "cell_type": "code",
   "execution_count": null,
   "id": "ffaca0ba",
   "metadata": {},
   "outputs": [],
   "source": [
    "#Extracting the data of company name\n",
    "company_tags=driver.find_elements_by_xpath('//div[@class=\"name\"]/a')\n",
    "for i in company_tags:\n",
    "    company_name.append(i.text)"
   ]
  },
  {
   "cell_type": "code",
   "execution_count": null,
   "id": "94148ef8",
   "metadata": {},
   "outputs": [],
   "source": [
    "#Extracting the salary records \n",
    "records_tags=driver.find_elements_by_xpath('//span[@data-v-7f256731]')\n",
    "for i in records_tags:\n",
    "    salary_record.append(i.text)\n",
    "salary_record[0::2]\n",
    "exp_details=salary_record[1::2]"
   ]
  },
  {
   "cell_type": "code",
   "execution_count": null,
   "id": "b016fe07",
   "metadata": {},
   "outputs": [],
   "source": [
    "#Extracting the data of avg salary \n",
    "avgsalary_tags=driver.find_elements_by_xpath('//p[@class=\"averageCtc\"]')\n",
    "for i in avgsalary_tags:\n",
    "    avg_salary.append(i.text)\n",
    "del avg_salary[:9]"
   ]
  },
  {
   "cell_type": "code",
   "execution_count": null,
   "id": "f0a2877c",
   "metadata": {},
   "outputs": [],
   "source": [
    "#Extracting the data of min and max salary from the scale\n",
    "min_max_tags=driver.find_elements_by_xpath('//div[@class=\"value body-medium\"]')\n",
    "for i in min_max_tags:\n",
    "    min_max_salary.append(i.text)\n",
    "del min_max_salary[:18]"
   ]
  },
  {
   "cell_type": "code",
   "execution_count": null,
   "id": "b68116c4",
   "metadata": {},
   "outputs": [],
   "source": [
    "min_salary=min_max_salary[0::2]\n",
    "max_salary=min_max_salary[1::2]"
   ]
  },
  {
   "cell_type": "code",
   "execution_count": null,
   "id": "ede28aa5",
   "metadata": {},
   "outputs": [],
   "source": [
    "#Creating the data frame.\n",
    "df=pd.DataFrame({'Compary Name':company_name,'Salary Record':salary_record[0::2],'Experience':exp_details,\"Average Salary\":avg_salary,\"Minimum Salary\":min_salary,\"Maxium Salary\":max_salary})\n",
    "df"
   ]
  },
  {
   "cell_type": "code",
   "execution_count": null,
   "id": "5895e568",
   "metadata": {},
   "outputs": [],
   "source": [
    "#Closing the automated chrome window\n",
    "driver.close()"
   ]
  },
  {
   "cell_type": "code",
   "execution_count": null,
   "id": "202deb0b",
   "metadata": {},
   "outputs": [],
   "source": []
  },
  {
   "cell_type": "code",
   "execution_count": null,
   "id": "9b6e960c",
   "metadata": {},
   "outputs": [],
   "source": []
  },
  {
   "cell_type": "code",
   "execution_count": null,
   "id": "87190b9e",
   "metadata": {},
   "outputs": [],
   "source": []
  },
  {
   "cell_type": "code",
   "execution_count": null,
   "id": "8dc9350b",
   "metadata": {},
   "outputs": [],
   "source": []
  },
  {
   "cell_type": "code",
   "execution_count": null,
   "id": "6f5fbcd1",
   "metadata": {},
   "outputs": [],
   "source": []
  }
 ],
 "metadata": {
  "kernelspec": {
   "display_name": "Python 3",
   "language": "python",
   "name": "python3"
  },
  "language_info": {
   "codemirror_mode": {
    "name": "ipython",
    "version": 3
   },
   "file_extension": ".py",
   "mimetype": "text/x-python",
   "name": "python",
   "nbconvert_exporter": "python",
   "pygments_lexer": "ipython3",
   "version": "3.8.8"
  }
 },
 "nbformat": 4,
 "nbformat_minor": 5
}
