{
 "cells": [
  {
   "cell_type": "markdown",
   "id": "37d67375",
   "metadata": {},
   "source": [
    "# 1. a python program to scrape data for “Data Analyst” Job position in “Bangalore” location. You have to scrape the job-title, job-location, company_name, experience_required."
   ]
  },
  {
   "cell_type": "code",
   "execution_count": null,
   "id": "00980a3d",
   "metadata": {},
   "outputs": [],
   "source": []
  },
  {
   "cell_type": "code",
   "execution_count": null,
   "id": "7325c9c5",
   "metadata": {},
   "outputs": [],
   "source": [
    "! pip install selenium"
   ]
  },
  {
   "cell_type": "code",
   "execution_count": null,
   "id": "1678deae",
   "metadata": {},
   "outputs": [],
   "source": [
    "#importing all required libraries\n",
    "import selenium\n",
    "import pandas as pd\n",
    "from selenium import webdriver\n",
    "import warnings\n",
    "warnings.filterwarnings(\"ignore\")\n",
    "import time"
   ]
  },
  {
   "cell_type": "code",
   "execution_count": null,
   "id": "e561c1b3",
   "metadata": {},
   "outputs": [],
   "source": [
    "#Lets first connect to the web driver\n",
    "driver=webdriver.Chrome(r\"C:\\chromedriver.exe\")"
   ]
  },
  {
   "cell_type": "code",
   "execution_count": null,
   "id": "6446c72c",
   "metadata": {},
   "outputs": [],
   "source": [
    "driver=webdriver.Chrome(\"chromedriver.exe\")\n",
    "time.sleep(2)"
   ]
  },
  {
   "cell_type": "code",
   "execution_count": null,
   "id": "865c5a60",
   "metadata": {},
   "outputs": [],
   "source": [
    "#Opening up naukri.com website on automated chrome window\n",
    "driver.get('https://www.naukri.com/')"
   ]
  },
  {
   "cell_type": "code",
   "execution_count": null,
   "id": "35c04765",
   "metadata": {},
   "outputs": [],
   "source": [
    "#Find elements for job search bar\n",
    "search_field_designation=driver.find_element_by_xpath(\"/html/body/div/div[2]/div[3]/div/div/div[1]/div/div/div/input\")   #Job search bar\n",
    "search_field_designation.send_keys(\"Data Analyst\")"
   ]
  },
  {
   "cell_type": "code",
   "execution_count": null,
   "id": "4049f412",
   "metadata": {},
   "outputs": [],
   "source": [
    "#Entering the location using Xpath\n",
    "search_field_location=driver.find_element_by_xpath(\"/html/body/div/div[2]/div[3]/div/div/div[3]/div/div/div/input\")   #Job search bar\n",
    "search_field_location.send_keys(\"Bangalore\")"
   ]
  },
  {
   "cell_type": "code",
   "execution_count": null,
   "id": "672c83a2",
   "metadata": {},
   "outputs": [],
   "source": [
    "#Clicking on the search button\n",
    "search_button=driver.find_element_by_xpath(\"/html/body/div/div[2]/div[3]/div/div/div[6]\")\n",
    "search_button.click()"
   ]
  },
  {
   "cell_type": "code",
   "execution_count": null,
   "id": "68e039cd",
   "metadata": {},
   "outputs": [],
   "source": [
    "#Declaring the variables\n",
    "job_titles=[]\n",
    "company_name=[]\n",
    "location_list=[]\n",
    "experience_list=[]\n",
    "#Extract all the tags having the job titles\n",
    "titles_tags=driver.find_elements_by_xpath(\"//a[@class='title fw500 ellipsis']\")\n",
    "for i in titles_tags:\n",
    "    job_titles.append(i.text)"
   ]
  },
  {
   "cell_type": "code",
   "execution_count": null,
   "id": "a4622bf3",
   "metadata": {},
   "outputs": [],
   "source": [
    "#Extracting the data of company Name\n",
    "company_tags=driver.find_elements_by_xpath('//a[@class=\"subTitle ellipsis fleft\"]')\n",
    "for i in company_tags:\n",
    "    company_name.append(i.text)"
   ]
  },
  {
   "cell_type": "code",
   "execution_count": null,
   "id": "f988b0f7",
   "metadata": {},
   "outputs": [],
   "source": [
    "#Extracting the details of locations\n",
    "location_tags=driver.find_elements_by_xpath('//li[@class=\"fleft grey-text br2 placeHolderLi location\"]/span')\n",
    "for i in location_tags:\n",
    "   # title=i.text\n",
    "    location_list.append(i.text)\n",
    "location_list.pop(3)\n",
    "location_list.pop(8)"
   ]
  },
  {
   "cell_type": "code",
   "execution_count": null,
   "id": "f7a5ed8b",
   "metadata": {},
   "outputs": [],
   "source": [
    "#Extracting the details of Experience\n",
    "experience_tags=driver.find_elements_by_xpath('//li[@class=\"fleft grey-text br2 placeHolderLi experience\"]/span')\n",
    "for i in experience_tags:\n",
    "   # title=i.text\n",
    "    experience_list.append(i.text)"
   ]
  },
  {
   "cell_type": "code",
   "execution_count": null,
   "id": "46d78b7b",
   "metadata": {},
   "outputs": [],
   "source": [
    "#Creating the data frame.\n",
    "jobs=pd.DataFrame({'Title':job_titles[:10],'Name':company_name[:10],'Location':location_list[:10],'Experience':experience_list[:10]})\n",
    "jobs"
   ]
  },
  {
   "cell_type": "code",
   "execution_count": null,
   "id": "41bfcb73",
   "metadata": {},
   "outputs": [],
   "source": [
    "#Closing the automated chrome window\n",
    "driver.close()"
   ]
  },
  {
   "cell_type": "code",
   "execution_count": null,
   "id": "af5a3c12",
   "metadata": {},
   "outputs": [],
   "source": []
  },
  {
   "cell_type": "code",
   "execution_count": null,
   "id": "b081f8ce",
   "metadata": {},
   "outputs": [],
   "source": []
  },
  {
   "cell_type": "markdown",
   "id": "ee6a62bc",
   "metadata": {},
   "source": [
    "# 2. a python program to scrape data for “Data Scientist” Job position in “Bangalore” location. You have to scrape the job-title, job-location, company_name. "
   ]
  },
  {
   "cell_type": "code",
   "execution_count": null,
   "id": "b0cff385",
   "metadata": {},
   "outputs": [],
   "source": [
    "driver=webdriver.Chrome(\"chromedriver.exe\")\n",
    "time.sleep(2)"
   ]
  },
  {
   "cell_type": "code",
   "execution_count": null,
   "id": "fa488115",
   "metadata": {},
   "outputs": [],
   "source": [
    "#Opening up naukri.com website on automated chrome window\n",
    "driver.get('https://www.naukri.com/')"
   ]
  },
  {
   "cell_type": "code",
   "execution_count": null,
   "id": "f1ac4f15",
   "metadata": {},
   "outputs": [],
   "source": [
    "#Find elements for job search bar\n",
    "search_field_designation=driver.find_element_by_xpath(\"/html/body/div/div[2]/div[3]/div/div/div[1]/div/div/div/input\")   #Job search bar\n",
    "search_field_designation.send_keys(\"Data Scientist\")"
   ]
  },
  {
   "cell_type": "code",
   "execution_count": null,
   "id": "fdd0015b",
   "metadata": {},
   "outputs": [],
   "source": [
    "#Entering the location using Xpath\n",
    "search_field_location=driver.find_element_by_xpath(\"/html/body/div/div[2]/div[3]/div/div/div[3]/div/div/div/input\")   #Job search bar\n",
    "search_field_location.send_keys(\"Bangalore\")"
   ]
  },
  {
   "cell_type": "code",
   "execution_count": null,
   "id": "f2d68adc",
   "metadata": {},
   "outputs": [],
   "source": [
    "#Clicking on the search button\n",
    "search_button=driver.find_element_by_xpath(\"/html/body/div/div[2]/div[3]/div/div/div[6]\")\n",
    "search_button.click()"
   ]
  },
  {
   "cell_type": "code",
   "execution_count": null,
   "id": "f09b5de0",
   "metadata": {},
   "outputs": [],
   "source": [
    "#Declaring the variables\n",
    "job_titles=[]\n",
    "company_name=[]\n",
    "location_list=[]\n",
    "experience_list=[]\n",
    "#Extract all the tags having the job titles\n",
    "titles_tags=driver.find_elements_by_xpath(\"//a[@class='title fw500 ellipsis']\")\n",
    "for i in titles_tags:\n",
    "    job_titles.append(i.text)"
   ]
  },
  {
   "cell_type": "code",
   "execution_count": null,
   "id": "14e1e565",
   "metadata": {},
   "outputs": [],
   "source": [
    "#Extracting the company names\n",
    "company_tags=driver.find_elements_by_xpath('//a[@class=\"subTitle ellipsis fleft\"]')\n",
    "for i in company_tags:\n",
    "    company_name.append(i.text)"
   ]
  },
  {
   "cell_type": "code",
   "execution_count": null,
   "id": "f235817a",
   "metadata": {},
   "outputs": [],
   "source": [
    "#Extracting the locations\n",
    "location_tags=driver.find_elements_by_xpath('//li[@class=\"fleft grey-text br2 placeHolderLi location\"]/span')\n",
    "for i in location_tags:\n",
    "   # title=i.text\n",
    "    location_list.append(i.text)\n",
    "location_list.pop(3)"
   ]
  },
  {
   "cell_type": "code",
   "execution_count": null,
   "id": "1ac649b0",
   "metadata": {},
   "outputs": [],
   "source": [
    "#Creating the data frame\n",
    "jobs=pd.DataFrame({'Title':job_titles[:10],'Name':company_name[:10],'Location':location_list[:10]})\n",
    "jobs"
   ]
  },
  {
   "cell_type": "code",
   "execution_count": null,
   "id": "ae15ab0e",
   "metadata": {},
   "outputs": [],
   "source": [
    "#To close the automated chrome window\n",
    "driver.close()"
   ]
  },
  {
   "cell_type": "code",
   "execution_count": null,
   "id": "32a63508",
   "metadata": {},
   "outputs": [],
   "source": []
  },
  {
   "cell_type": "code",
   "execution_count": null,
   "id": "25179599",
   "metadata": {},
   "outputs": [],
   "source": []
  },
  {
   "cell_type": "markdown",
   "id": "8ceaf9e3",
   "metadata": {},
   "source": [
    "# 3: In this question you have to scrape data using the filters available on the webpage as shown below:\n",
    "You have to use the location and salary filter.\n",
    "You have to scrape data for “Data Scientist” designation for first 10 job results. You have to scrape the job-title, job-location, company name, experience required. The location filter to be used is “Delhi/NCR”. The salary filter to be used is “3-6” lakhs"
   ]
  },
  {
   "cell_type": "code",
   "execution_count": null,
   "id": "fd6d0655",
   "metadata": {},
   "outputs": [],
   "source": [
    "driver=webdriver.Chrome(\"chromedriver.exe\")\n",
    "time.sleep(2)"
   ]
  },
  {
   "cell_type": "code",
   "execution_count": null,
   "id": "93acfb37",
   "metadata": {},
   "outputs": [],
   "source": [
    "#Opening up naukri.com website on automated chrome window\n",
    "driver.get('https://www.naukri.com/')"
   ]
  },
  {
   "cell_type": "code",
   "execution_count": null,
   "id": "3ac3ddc0",
   "metadata": {},
   "outputs": [],
   "source": [
    "#Find elements for job search bar\n",
    "search_field_designation=driver.find_element_by_xpath(\"/html/body/div/div[2]/div[3]/div/div/div[1]/div/div/div/input\")   #Job search bar\n",
    "search_field_designation.send_keys(\"Data Scientist\")"
   ]
  },
  {
   "cell_type": "code",
   "execution_count": null,
   "id": "19c1c6dc",
   "metadata": {},
   "outputs": [],
   "source": [
    "#Entering the location using Xpath\n",
    "search_field_location=driver.find_element_by_xpath(\"/html/body/div/div[2]/div[3]/div/div/div[3]/div/div/div/input\")   #Job search bar\n",
    "search_field_location.send_keys(\"Delhi/NCR\")"
   ]
  },
  {
   "cell_type": "code",
   "execution_count": null,
   "id": "0d68ea20",
   "metadata": {},
   "outputs": [],
   "source": [
    "#Clicking on the search button\n",
    "search_button=driver.find_element_by_xpath(\"/html/body/div/div[2]/div[3]/div/div/div[6]\")\n",
    "search_button.click()"
   ]
  },
  {
   "cell_type": "code",
   "execution_count": null,
   "id": "b486ec2a",
   "metadata": {},
   "outputs": [],
   "source": [
    "#Clicking on the Salary filter button\n",
    "salary_button=driver.find_element_by_xpath(\"/html/body/div[1]/div[3]/div[2]/section[1]/div[2]/div[4]/div[2]/div[2]\")\n",
    "salary_button.click()"
   ]
  },
  {
   "cell_type": "code",
   "execution_count": null,
   "id": "aa24288f",
   "metadata": {},
   "outputs": [],
   "source": [
    "#Clicking on the Salary filter button\n",
    "location_button=driver.find_element_by_xpath(\"/html/body/div[1]/div[3]/div[2]/section[1]/div[2]/div[12]/div[2]/div[2]\")\n",
    "location_button.click()"
   ]
  },
  {
   "cell_type": "code",
   "execution_count": null,
   "id": "3ba612dc",
   "metadata": {},
   "outputs": [],
   "source": [
    "#Declaring the variables\n",
    "job_titles=[]\n",
    "company_name=[]\n",
    "location_list=[]\n",
    "experience_list=[]\n",
    "#Extract all the tags having the job titles\n",
    "titles_tags=driver.find_elements_by_xpath(\"//a[@class='title fw500 ellipsis']\")\n",
    "for i in titles_tags:\n",
    "    job_titles.append(i.text)"
   ]
  },
  {
   "cell_type": "code",
   "execution_count": null,
   "id": "08228ae9",
   "metadata": {},
   "outputs": [],
   "source": [
    "#Extracting the company names\n",
    "company_tags=driver.find_elements_by_xpath('//a[@class=\"subTitle ellipsis fleft\"]')\n",
    "for i in company_tags:\n",
    "    company_name.append(i.text)"
   ]
  },
  {
   "cell_type": "code",
   "execution_count": null,
   "id": "770c1bf6",
   "metadata": {},
   "outputs": [],
   "source": [
    "#Extracting the locations\n",
    "location_tags=driver.find_elements_by_xpath('//li[@class=\"fleft grey-text br2 placeHolderLi location\"]/span')\n",
    "for i in location_tags:\n",
    "    location_list.append(i.text)"
   ]
  },
  {
   "cell_type": "code",
   "execution_count": null,
   "id": "add1b4eb",
   "metadata": {},
   "outputs": [],
   "source": [
    "#Extracting the experience\n",
    "experience_tags=driver.find_elements_by_xpath('//li[@class=\"fleft grey-text br2 placeHolderLi experience\"]/span')\n",
    "for i in experience_tags:\n",
    "    experience_list.append(i.text)"
   ]
  },
  {
   "cell_type": "code",
   "execution_count": null,
   "id": "cb862ac3",
   "metadata": {},
   "outputs": [],
   "source": [
    "#Creating the data frame\n",
    "jobs=pd.DataFrame({'Title':job_titles[:10],'Name':company_name[:10],'Location':location_list[:10],'Experience':experience_list[:10]})\n",
    "jobs"
   ]
  },
  {
   "cell_type": "code",
   "execution_count": null,
   "id": "5750e7c7",
   "metadata": {},
   "outputs": [],
   "source": [
    "#To close the automated chrome window\n",
    "driver.close()"
   ]
  },
  {
   "cell_type": "code",
   "execution_count": null,
   "id": "18e4fbbe",
   "metadata": {},
   "outputs": [],
   "source": []
  },
  {
   "cell_type": "markdown",
   "id": "1d11f8cd",
   "metadata": {},
   "source": [
    "# 4. Scrape data of first 100 sunglasses listings on flipkart.com. You have to scrape four attributes:\n",
    "Brand\n",
    "Product Description\n",
    "Price The attributes which you have to scrape is ticked marked in the below image"
   ]
  },
  {
   "cell_type": "code",
   "execution_count": null,
   "id": "615c2699",
   "metadata": {},
   "outputs": [],
   "source": [
    "driver=webdriver.Chrome(\"chromedriver.exe\")\n",
    "time.sleep(2)"
   ]
  },
  {
   "cell_type": "code",
   "execution_count": null,
   "id": "a2380d43",
   "metadata": {},
   "outputs": [],
   "source": [
    "#Opening up naukri.com website on automated chrome window\n",
    "driver.get('https://www.flipkart.com/')"
   ]
  },
  {
   "cell_type": "code",
   "execution_count": null,
   "id": "a2c7a64c",
   "metadata": {},
   "outputs": [],
   "source": [
    "#Clicking on the Closing pop up window button\n",
    "close_button=driver.find_element_by_xpath(\"/html/body/div[2]/div/div/button\")\n",
    "close_button.click()"
   ]
  },
  {
   "cell_type": "code",
   "execution_count": null,
   "id": "b4bdc83e",
   "metadata": {},
   "outputs": [],
   "source": [
    "#Find elements for job search bar\n",
    "search_field=driver.find_element_by_xpath(\"/html/body/div[1]/div/div[1]/div[1]/div[2]/div[2]/form/div/div/input\")   #Job search bar\n",
    "search_field.send_keys(\"Sunglasses\")"
   ]
  },
  {
   "cell_type": "code",
   "execution_count": null,
   "id": "a8fdec99",
   "metadata": {},
   "outputs": [],
   "source": [
    "#Closing the login pop up window\n",
    "search_button=driver.find_element_by_xpath(\"/html/body/div[1]/div/div[1]/div[1]/div[2]/div[2]/form/div/button\")\n",
    "search_button.click()"
   ]
  },
  {
   "cell_type": "code",
   "execution_count": null,
   "id": "24608c7b",
   "metadata": {},
   "outputs": [],
   "source": [
    "#Declaring the variables\n",
    "brand_name=[]\n",
    "product_details=[]\n",
    "price_list=[]\n",
    "\n",
    "#Extract all the tags having the Brand Name\n",
    "for i in range(0,3):\n",
    "    titles_tags=driver.find_elements_by_xpath(\"//div[@class='_2WkVRV']\")\n",
    "    for i in titles_tags:\n",
    "        brand_name.append(i.text)\n",
    "    next_button=driver.find_element_by_xpath(\"//a[@class='_1LKTO3']\")\n",
    "    next_button.click()\n",
    "    time.sleep(5)"
   ]
  },
  {
   "cell_type": "code",
   "execution_count": null,
   "id": "095a096f",
   "metadata": {},
   "outputs": [],
   "source": [
    "#Extract all the price tags and details\n",
    "for i in range(0,3):\n",
    "    price_tags=driver.find_elements_by_xpath('//a[@class=\"_3bPFwb\"]')\n",
    "    for i in price_tags:\n",
    "        price_list.append(i.text)\n",
    "    next_button=driver.find_element_by_xpath(\"//a[@class='_1LKTO3']\")\n",
    "    next_button.click()\n",
    "    time.sleep(5)"
   ]
  },
  {
   "cell_type": "code",
   "execution_count": null,
   "id": "bf713a65",
   "metadata": {},
   "outputs": [],
   "source": [
    "#Extract all the tags related to product details\n",
    "for i in range(0,3):\n",
    "    product_tags=driver.find_elements_by_xpath('//a[@class=\"IRpwTa\"]')\n",
    "    for i in product_tags:\n",
    "        product_details.append(i.text)\n",
    "    next_button=driver.find_element_by_xpath(\"//a[@class='_1LKTO3']\")\n",
    "    next_button.click()\n",
    "    time.sleep(5)"
   ]
  },
  {
   "cell_type": "code",
   "execution_count": null,
   "id": "a986326b",
   "metadata": {},
   "outputs": [],
   "source": [
    "#Creating the data frame\n",
    "df=pd.DataFrame({'Brand':brand_name[:100],'Product Details':product_details[:100],'Price':price_list[:100]})\n",
    "df"
   ]
  },
  {
   "cell_type": "code",
   "execution_count": null,
   "id": "23723087",
   "metadata": {},
   "outputs": [],
   "source": [
    "#Closing the automated chrome window\n",
    "driver.close()"
   ]
  },
  {
   "cell_type": "code",
   "execution_count": null,
   "id": "f2deff5d",
   "metadata": {},
   "outputs": [],
   "source": []
  },
  {
   "cell_type": "markdown",
   "id": "ae25c1a9",
   "metadata": {},
   "source": [
    "# 5. Scrape 100 reviews data from flipkart.com for iphone11 phone. You have to go the link:\n",
    "https://www.flipkart.com/apple-iphone-11-black-64-gb-includes-earpods-poweradapter/p/itm0f37c2240b217?pid=MOBFKCTSVZAXUHGR&lid=LSTMOBFKCTSVZAXUHGREPBFGI&marketplace"
   ]
  },
  {
   "cell_type": "code",
   "execution_count": 372,
   "id": "03dce201",
   "metadata": {},
   "outputs": [],
   "source": [
    "driver=webdriver.Chrome(\"chromedriver.exe\")\n",
    "time.sleep(2)"
   ]
  },
  {
   "cell_type": "code",
   "execution_count": 373,
   "id": "6cb6705a",
   "metadata": {},
   "outputs": [],
   "source": [
    "url=\"https://www.flipkart.com/apple-iphone-11-black-64-gb-includes-earpods-power-adapter/product-reviews/itm0f37c2240b217?pid=MOBFKCTSVZAXUHGR&lid=LSTMOBFKCTSVZAXUHGREPBFGI&marketplace=FLIPKART\"\n",
    "driver.get(url)"
   ]
  },
  {
   "cell_type": "code",
   "execution_count": 374,
   "id": "f84e569e",
   "metadata": {},
   "outputs": [
    {
     "data": {
      "text/plain": [
       "['The Best Phone for the Money\\n\\nThe iPhone 11 offers superb cameras, a more durable design and excellent battery life for an affordable price.\\n\\nCompelling ultra-wide camera\\nNew Night mode is excellent\\nLong battery life',\n",
       " 'Really satisfied with the Product I received... It’s totally genuine and the packaging was also really good so if ur planning to buy just go for it.',\n",
       " 'Great iPhone very snappy experience as apple kind. Upgraded from iPhone 7.\\nPros\\n-Camera top class\\n- Battery top performed\\n-Chipset no need to say as apple kind\\n-Security as you expect from apple\\n- Display super bright industry leading colour\\naccuracy and super responsive\\n-Build quality as expect from apple sturdy\\npremium durable beautiful stylish.\\n-Os most stable os in smartphone industry\\n\\nCons\\n-No 5G\\n-Display is not based on OLED technology\\n-Charger headphones and 1 apple stic...\\nREAD MORE',\n",
       " 'Amazing phone with great cameras and better battery which gives you the best performance. I just love the camera .',\n",
       " 'This is my first iOS phone. I am very happy with this product. Very much satisfied with this. I love this phone.',\n",
       " 'Previously I was using one plus 3t it was a great phone\\nAnd then I decided to upgrade I am stuck between Samsung s10 plus or iPhone 11\\nI have seen the specs and everything were good except the display it’s somewhere between 720-1080 and it’s not even an amoled it’s an LCD display\\nBut I decided to go with iPhone because I have never used an IOS device I have Been an android user from the past 9 years I ordered IPhone 11 (128gb) product red\\nMy experience after using 3 weeks\\n1. The delivery ...\\nREAD MORE',\n",
       " 'Amazing Powerful and Durable Gadget.\\n\\nI’m am very happy with the camera picture quality, Amazing face id unlocked in dark room, Strong battery with perfect screen size as you can carry easily in pocket. This is my third iPhone.\\n\\nI shifted from android Samsung Note series to iPhone because of the strong build quality and peace of mind for next 3-4 years.\\n\\nDon’t think to much just go for it and I suggest you to go for minimum 128gb variant or more 256gb.\\n\\nI’ve attached my puppy pics and no fi...\\nREAD MORE',\n",
       " 'i11 is worthy to buy, too much happy with the product. Thank u flipkart I received the item on time..loved it..',\n",
       " 'So far it’s been an AMAZING experience coming back to iOS after nearly a decade but it’s not as versatile as android though phone is sturdy dropped it accidentally a couple of times and nothing happened fortunately camera is awesome',\n",
       " 'What a camera .....just awesome ..you can feel this iPhone just awesome . Good for gaming also ...try pubg in hd it’s just wow']"
      ]
     },
     "execution_count": 374,
     "metadata": {},
     "output_type": "execute_result"
    }
   ],
   "source": [
    "#Scraping Data\n",
    "rating=[]\n",
    "review_summary=[]\n",
    "full_review=[]\n",
    "\n",
    "rating_tags=driver.find_elements_by_xpath(\"//div[@class='_3LWZlK _1BLPMq']\")\n",
    "rating_tags[0:10]\n",
    "\n",
    "for i in rating_tags:\n",
    "    score=i.text\n",
    "    rating.append(score)\n",
    "rating[0:10]\n",
    "\n",
    "review_summary_tags=driver.find_elements_by_xpath(\"//p[@class='_2-N8zT']\")\n",
    "review_summary_tags[0:10]\n",
    "\n",
    "for i in review_summary_tags:\n",
    "    summary=i.text\n",
    "    review_summary.append(summary)\n",
    "review_summary[0:10]    \n",
    "\n",
    "full_review_tags=driver.find_elements_by_xpath(\"//div[@class='t-ZTKy']\")\n",
    "full_review_tags[0:10]\n",
    "\n",
    "for i in full_review_tags:\n",
    "    review=i.text\n",
    "    full_review.append(review)\n",
    "full_review[0:10]\n"
   ]
  },
  {
   "cell_type": "code",
   "execution_count": 375,
   "id": "40731c7b",
   "metadata": {},
   "outputs": [
    {
     "data": {
      "text/html": [
       "<div>\n",
       "<style scoped>\n",
       "    .dataframe tbody tr th:only-of-type {\n",
       "        vertical-align: middle;\n",
       "    }\n",
       "\n",
       "    .dataframe tbody tr th {\n",
       "        vertical-align: top;\n",
       "    }\n",
       "\n",
       "    .dataframe thead th {\n",
       "        text-align: right;\n",
       "    }\n",
       "</style>\n",
       "<table border=\"1\" class=\"dataframe\">\n",
       "  <thead>\n",
       "    <tr style=\"text-align: right;\">\n",
       "      <th></th>\n",
       "      <th>Rating</th>\n",
       "      <th>Review_summary</th>\n",
       "      <th>Full_review</th>\n",
       "    </tr>\n",
       "  </thead>\n",
       "  <tbody>\n",
       "    <tr>\n",
       "      <th>0</th>\n",
       "      <td>5</td>\n",
       "      <td>Brilliant</td>\n",
       "      <td>The Best Phone for the Money\\n\\nThe iPhone 11 ...</td>\n",
       "    </tr>\n",
       "    <tr>\n",
       "      <th>1</th>\n",
       "      <td>5</td>\n",
       "      <td>Simply awesome</td>\n",
       "      <td>Really satisfied with the Product I received.....</td>\n",
       "    </tr>\n",
       "    <tr>\n",
       "      <th>2</th>\n",
       "      <td>5</td>\n",
       "      <td>Best in the market!</td>\n",
       "      <td>Great iPhone very snappy experience as apple k...</td>\n",
       "    </tr>\n",
       "    <tr>\n",
       "      <th>3</th>\n",
       "      <td>5</td>\n",
       "      <td>Perfect product!</td>\n",
       "      <td>Amazing phone with great cameras and better ba...</td>\n",
       "    </tr>\n",
       "    <tr>\n",
       "      <th>4</th>\n",
       "      <td>5</td>\n",
       "      <td>Fabulous!</td>\n",
       "      <td>This is my first iOS phone. I am very happy wi...</td>\n",
       "    </tr>\n",
       "    <tr>\n",
       "      <th>5</th>\n",
       "      <td>5</td>\n",
       "      <td>Worth every penny</td>\n",
       "      <td>Previously I was using one plus 3t it was a gr...</td>\n",
       "    </tr>\n",
       "    <tr>\n",
       "      <th>6</th>\n",
       "      <td>5</td>\n",
       "      <td>Great product</td>\n",
       "      <td>Amazing Powerful and Durable Gadget.\\n\\nI’m am...</td>\n",
       "    </tr>\n",
       "    <tr>\n",
       "      <th>7</th>\n",
       "      <td>5</td>\n",
       "      <td>Worth every penny</td>\n",
       "      <td>i11 is worthy to buy, too much happy with the ...</td>\n",
       "    </tr>\n",
       "    <tr>\n",
       "      <th>8</th>\n",
       "      <td>4</td>\n",
       "      <td>Good choice</td>\n",
       "      <td>So far it’s been an AMAZING experience coming ...</td>\n",
       "    </tr>\n",
       "    <tr>\n",
       "      <th>9</th>\n",
       "      <td>5</td>\n",
       "      <td>Highly recommended</td>\n",
       "      <td>What a camera .....just awesome ..you can feel...</td>\n",
       "    </tr>\n",
       "  </tbody>\n",
       "</table>\n",
       "</div>"
      ],
      "text/plain": [
       "  Rating       Review_summary  \\\n",
       "0      5            Brilliant   \n",
       "1      5       Simply awesome   \n",
       "2      5  Best in the market!   \n",
       "3      5     Perfect product!   \n",
       "4      5            Fabulous!   \n",
       "5      5    Worth every penny   \n",
       "6      5        Great product   \n",
       "7      5    Worth every penny   \n",
       "8      4          Good choice   \n",
       "9      5   Highly recommended   \n",
       "\n",
       "                                         Full_review  \n",
       "0  The Best Phone for the Money\\n\\nThe iPhone 11 ...  \n",
       "1  Really satisfied with the Product I received.....  \n",
       "2  Great iPhone very snappy experience as apple k...  \n",
       "3  Amazing phone with great cameras and better ba...  \n",
       "4  This is my first iOS phone. I am very happy wi...  \n",
       "5  Previously I was using one plus 3t it was a gr...  \n",
       "6  Amazing Powerful and Durable Gadget.\\n\\nI’m am...  \n",
       "7  i11 is worthy to buy, too much happy with the ...  \n",
       "8  So far it’s been an AMAZING experience coming ...  \n",
       "9  What a camera .....just awesome ..you can feel...  "
      ]
     },
     "execution_count": 375,
     "metadata": {},
     "output_type": "execute_result"
    }
   ],
   "source": [
    "#Extracting tags and collecting the data of reviews\n",
    "df = pd.DataFrame()\n",
    "df['Rating']=rating\n",
    "df['Review_summary']=review_summary\n",
    "df['Full_review']=full_review\n",
    "df.head(10)"
   ]
  },
  {
   "cell_type": "code",
   "execution_count": 376,
   "id": "4d0ecd14",
   "metadata": {},
   "outputs": [],
   "source": [
    "#Closing the automated chrome window\n",
    "driver.close()"
   ]
  },
  {
   "cell_type": "code",
   "execution_count": null,
   "id": "fa1887ab",
   "metadata": {},
   "outputs": [],
   "source": []
  },
  {
   "cell_type": "markdown",
   "id": "4a2c1591",
   "metadata": {},
   "source": [
    "# 6. Scrape data for first 100 sneakers you find when you visit flipkart.com andsearch for “sneakers” in the search field."
   ]
  },
  {
   "cell_type": "code",
   "execution_count": null,
   "id": "a7a053ea",
   "metadata": {},
   "outputs": [],
   "source": [
    "driver=webdriver.Chrome(\"chromedriver.exe\")\n",
    "time.sleep(2)"
   ]
  },
  {
   "cell_type": "code",
   "execution_count": null,
   "id": "6422185a",
   "metadata": {},
   "outputs": [],
   "source": [
    "#Opening up naukri.com website on automated chrome window\n",
    "driver.get('https://www.flipkart.com/')"
   ]
  },
  {
   "cell_type": "code",
   "execution_count": null,
   "id": "a5bafaf0",
   "metadata": {},
   "outputs": [],
   "source": [
    "#Clicking on the Closing pop up window button\n",
    "close_button=driver.find_element_by_xpath(\"/html/body/div[2]/div/div/button\")\n",
    "close_button.click()"
   ]
  },
  {
   "cell_type": "code",
   "execution_count": null,
   "id": "2df890cc",
   "metadata": {},
   "outputs": [],
   "source": [
    "#Find elements for job search bar\n",
    "search_field=driver.find_element_by_xpath(\"/html/body/div[1]/div/div[1]/div[1]/div[2]/div[2]/form/div/div/input\")   #Job search bar\n",
    "search_field.send_keys(\"sneakers\")"
   ]
  },
  {
   "cell_type": "code",
   "execution_count": null,
   "id": "84841867",
   "metadata": {},
   "outputs": [],
   "source": [
    "#Utilizing the search functionality \n",
    "search_button=driver.find_element_by_xpath(\"/html/body/div[1]/div/div[1]/div[1]/div[2]/div[2]/form/div/button\")\n",
    "search_button.click()"
   ]
  },
  {
   "cell_type": "code",
   "execution_count": null,
   "id": "e8cb3ce0",
   "metadata": {},
   "outputs": [],
   "source": [
    "#Declaring the variables\n",
    "brand_name=[]\n",
    "product_details=[]\n",
    "price_list=[]\n",
    "\n",
    "#Extract all the tags having the Brand Name\n",
    "for i in range(0,3):\n",
    "    brand_tags=driver.find_elements_by_xpath(\"//div[@class='_2WkVRV']\")\n",
    "    for i in brand_tags:\n",
    "        brand_name.append(i.text)\n",
    "    next_button=driver.find_element_by_xpath('//a[@class=\"_1LKTO3\"]')\n",
    "    next_button.click()\n",
    "    time.sleep(5)"
   ]
  },
  {
   "cell_type": "code",
   "execution_count": null,
   "id": "9eba40fe",
   "metadata": {},
   "outputs": [],
   "source": [
    "#Extract all the tags related to product details\n",
    "for i in range(0,3):\n",
    "    product_tags=driver.find_elements_by_xpath(\"//div[@class='_2WkVRV']\")\n",
    "    for i in product_tags:\n",
    "        product_details.append(i.text)\n",
    "    next_button=driver.find_element_by_xpath('//a[@class=\"_1LKTO3\"]')\n",
    "    next_button.click()\n",
    "    time.sleep(5)"
   ]
  },
  {
   "cell_type": "code",
   "execution_count": null,
   "id": "de7afb6f",
   "metadata": {},
   "outputs": [],
   "source": [
    "#Extract all the price tags and details\n",
    "for i in range(0,3):\n",
    "    price_tags=driver.find_elements_by_xpath('//a[@class=\"_3bPFwb\"]')\n",
    "    for i in price_tags:\n",
    "        price_list.append(i.text)\n",
    "    next_button=driver.find_element_by_xpath('//a[@class=\"_1LKTO3\"]')\n",
    "    next_button.click()\n",
    "    time.sleep(5)"
   ]
  },
  {
   "cell_type": "code",
   "execution_count": null,
   "id": "84d531ce",
   "metadata": {},
   "outputs": [],
   "source": [
    "#Creating the data frame\n",
    "df=pd.DataFrame({'Brand':brand_name[:100],'Product Details':product_details[:100],'Price':price_list[:100]})\n",
    "df"
   ]
  },
  {
   "cell_type": "code",
   "execution_count": null,
   "id": "480fea9f",
   "metadata": {},
   "outputs": [],
   "source": [
    "#Closing automated chrome window\n",
    "driver.close()"
   ]
  },
  {
   "cell_type": "code",
   "execution_count": null,
   "id": "77164da1",
   "metadata": {},
   "outputs": [],
   "source": []
  },
  {
   "cell_type": "markdown",
   "id": "800eb95c",
   "metadata": {},
   "source": [
    "# 7: Go to the link - https://www.myntra.com/shoes\n",
    "Set Price filter to “Rs. 7149 to Rs. 14099 ” , Color filter to “Black”, as shown in the below image And then scrape First 100 shoes data you get. The data should include “Brand” of the shoes , Short Shoe description, price of the shoe as shown in the below image."
   ]
  },
  {
   "cell_type": "code",
   "execution_count": null,
   "id": "be47a069",
   "metadata": {},
   "outputs": [],
   "source": [
    "driver=webdriver.Chrome(\"chromedriver.exe\")\n",
    "time.sleep(2)"
   ]
  },
  {
   "cell_type": "code",
   "execution_count": null,
   "id": "7cc9a9ab",
   "metadata": {},
   "outputs": [],
   "source": [
    "driver.get('https://www.myntra.com/shoes')"
   ]
  },
  {
   "cell_type": "code",
   "execution_count": null,
   "id": "c7099e53",
   "metadata": {},
   "outputs": [],
   "source": [
    "#Set the color filter to BLACK\n",
    "color_filter=driver.find_element_by_xpath(\"/html/body/div[2]/div/div[1]/main/div[3]/div[1]/section/div/div[6]/ul/li[1]/label/div\")\n",
    "color_filter.click()"
   ]
  },
  {
   "cell_type": "code",
   "execution_count": null,
   "id": "1f377bff",
   "metadata": {},
   "outputs": [],
   "source": [
    "#Set the filter to Rs 7149 to Rs 14099\n",
    "price_filter=driver.find_element_by_xpath(\"/html/body/div[2]/div/div[1]/main/div[3]/div[1]/section/div/div[5]/ul/li[2]/label/div\")\n",
    "price_filter.click()"
   ]
  },
  {
   "cell_type": "code",
   "execution_count": null,
   "id": "a45ec99a",
   "metadata": {},
   "outputs": [],
   "source": [
    "#Declaring the variables\n",
    "brand_name=[]\n",
    "product_details=[]\n",
    "price_list=[]\n",
    "page_urls=[]\n",
    "\n",
    "#Collecting the URL of all the pages\n",
    "nxt_page = driver.find_elements_by_xpath(\"//ul[@class='pagination-container']/li/a\")\n",
    "for i in nxt_page:\n",
    "    page_urls.append(i.get_attribute('href'))"
   ]
  },
  {
   "cell_type": "code",
   "execution_count": null,
   "id": "0ad4799a",
   "metadata": {},
   "outputs": [],
   "source": [
    "#Extract all the tags having the Brand Name\n",
    "for url in page_urls[:3]:\n",
    "    driver.get(url)\n",
    "    Names=driver.find_elements_by_xpath(\"//div[@class='product-productMetaInfo']/h3\")  #for scrapping shoe brand names\n",
    "    for i in Names:\n",
    "        brand_name.append(i.text)\n",
    "    brand_name   \n",
    "    time.sleep(5)"
   ]
  },
  {
   "cell_type": "code",
   "execution_count": null,
   "id": "c87a2f86",
   "metadata": {},
   "outputs": [],
   "source": [
    "#Extract all the tags having the product details\n",
    "for url in page_urls[:2]:\n",
    "    driver.get(url)\n",
    "    product_tags=driver.find_elements_by_xpath('//h4[@class=\"product-product\"]')  #for scrapping shoe Product details\n",
    "    for i in product_tags:\n",
    "        product_details.append(i.text)\n",
    "    product_details   \n",
    "    time.sleep(5)"
   ]
  },
  {
   "cell_type": "code",
   "execution_count": null,
   "id": "96c24d5d",
   "metadata": {},
   "outputs": [],
   "source": [
    "#Extract all the tags having the price details\n",
    "for url in page_urls[:3]:\n",
    "    driver.get(url)\n",
    "    price_tags=driver.find_elements_by_xpath('//div[@class=\"product-price\"]')  #for scrapping shoe Product details\n",
    "    for i in price_tags:\n",
    "        price_list.append(i.text)\n",
    "    price_list   \n",
    "    time.sleep(5)"
   ]
  },
  {
   "cell_type": "code",
   "execution_count": null,
   "id": "0ac683ca",
   "metadata": {},
   "outputs": [],
   "source": [
    "#Creating the data frame\n",
    "df=pd.DataFrame({'Brand':brand_name[:100],'Product Details':product_details[:100],'Price':price_list[:100]})\n",
    "df"
   ]
  },
  {
   "cell_type": "code",
   "execution_count": null,
   "id": "95229218",
   "metadata": {},
   "outputs": [],
   "source": [
    "#Closing the automated window\n",
    "driver.close()"
   ]
  },
  {
   "cell_type": "code",
   "execution_count": null,
   "id": "0bda8b40",
   "metadata": {},
   "outputs": [],
   "source": []
  },
  {
   "cell_type": "code",
   "execution_count": null,
   "id": "204d5cc9",
   "metadata": {},
   "outputs": [],
   "source": []
  },
  {
   "cell_type": "markdown",
   "id": "c2cefecd",
   "metadata": {},
   "source": [
    "# 8. Go to webpage https://www.amazon.in/\n",
    "Enter “Laptop” in the search field and then click the search icon. Then set CPU Type filter to “Intel Core i7” and “Intel Core i9” as shown in the below image:\n",
    "\n",
    "After setting the filters scrape first 10 laptops data. You have to scrape 3 attributesfor each laptop:\n",
    "\n",
    "Title\n",
    "Ratings\n",
    "Price As shown in the below image as the tick marked attributes"
   ]
  },
  {
   "cell_type": "code",
   "execution_count": null,
   "id": "82ef70e6",
   "metadata": {},
   "outputs": [],
   "source": [
    "driver=webdriver.Chrome(\"chromedriver.exe\")\n",
    "time.sleep(2)"
   ]
  },
  {
   "cell_type": "code",
   "execution_count": null,
   "id": "59e124f8",
   "metadata": {},
   "outputs": [],
   "source": [
    "#Opening up naukri.com website on automated chrome window\n",
    "driver.get('https://www.amazon.in/')"
   ]
  },
  {
   "cell_type": "code",
   "execution_count": null,
   "id": "2ecc423d",
   "metadata": {},
   "outputs": [],
   "source": [
    "#Find elements for job search bar\n",
    "search_field=driver.find_element_by_xpath('/html/body/div[1]/header/div/div[1]/div[2]/div/form/div[2]/div[1]/input')   #Job search bar\n",
    "search_field.send_keys(\"Laptop\")"
   ]
  },
  {
   "cell_type": "code",
   "execution_count": null,
   "id": "1d6c7533",
   "metadata": {},
   "outputs": [],
   "source": [
    "#Click on search button\n",
    "search_button=driver.find_element_by_xpath(\"/html/body/div[1]/header/div/div[1]/div[2]/div/form/div[3]/div/span/input\")\n",
    "search_button.click()"
   ]
  },
  {
   "cell_type": "code",
   "execution_count": null,
   "id": "c5559864",
   "metadata": {},
   "outputs": [],
   "source": [
    "#Set the color filter to to select i7 CPU\n",
    "i7_filter=driver.find_element_by_xpath(\"/html/body/div[2]/div[2]/div[1]/div[2]/div/div[3]/span/div[1]/div/div/div[6]/ul[4]/li[14]/span/a/div/label/i\")\n",
    "i7_filter.click()"
   ]
  },
  {
   "cell_type": "code",
   "execution_count": null,
   "id": "ddf5d642",
   "metadata": {},
   "outputs": [],
   "source": [
    "#Set the color filter to to select i5 CPU\n",
    "i5_filter=driver.find_element_by_xpath(\"/html/body/div[2]/div[2]/div[1]/div[2]/div/div[3]/span/div[1]/div/div/div[6]/ul[4]/li[2]/span/a/div/label/i\")\n",
    "i5_filter.click()"
   ]
  },
  {
   "cell_type": "code",
   "execution_count": null,
   "id": "0394ca5a",
   "metadata": {},
   "outputs": [],
   "source": [
    "#Declaring the variables\n",
    "title_name=[]\n",
    "ratings=[]\n",
    "price_list=[]\n",
    "\n",
    "#Extract the title of the laptop\n",
    "titles_tags=driver.find_elements_by_xpath('//h2[@class=\"a-size-mini a-spacing-none a-color-base s-line-clamp-2\"]')\n",
    "for i in titles_tags:\n",
    "    title_name.append(i.text)"
   ]
  },
  {
   "cell_type": "code",
   "execution_count": null,
   "id": "2a531af2",
   "metadata": {},
   "outputs": [],
   "source": [
    "#Extract the price details\n",
    "price_tags=driver.find_elements_by_xpath('//div[@class=\"a-row a-size-base a-color-base\"]')\n",
    "for i in price_tags:\n",
    "    price_list.append(i.text)"
   ]
  },
  {
   "cell_type": "code",
   "execution_count": null,
   "id": "2750a9f0",
   "metadata": {},
   "outputs": [],
   "source": [
    "#Extract the ratings\n",
    "rating_tags=driver.find_elements_by_xpath('//i[@class=\"a-icon a-icon-star-small a-star-small-4 aok-align-bottom\"]')\n",
    "for i in rating_tags:\n",
    "   # title=i.text\n",
    "    ratings.append(i.text)"
   ]
  },
  {
   "cell_type": "code",
   "execution_count": null,
   "id": "13e898b6",
   "metadata": {},
   "outputs": [],
   "source": [
    "#Creating the Data Frame. \n",
    "#The output was suggested by the mention after raising the ticket.\n",
    "df=pd.DataFrame({'Title':title_name[:10],'Price':price_list[:10],'Ratings':ratings[:10]})\n",
    "df"
   ]
  },
  {
   "cell_type": "code",
   "execution_count": null,
   "id": "7eebb025",
   "metadata": {},
   "outputs": [],
   "source": [
    "#Closing the automated window\n",
    "driver.close()"
   ]
  },
  {
   "cell_type": "code",
   "execution_count": null,
   "id": "623aba01",
   "metadata": {},
   "outputs": [],
   "source": []
  },
  {
   "cell_type": "markdown",
   "id": "18fa6486",
   "metadata": {},
   "source": [
    "# 9. a python program to scrape data for first 10 job results for Data Scientist Designation in Noida\n",
    "location. You have to scrape company name, No. of days ago when job was posted, Rating of the company. This task will be done in following steps:\n",
    "\n",
    "First get the webpage https://www.ambitionbox.com/\n",
    "Click on the Job option as shown in the image"
   ]
  },
  {
   "cell_type": "code",
   "execution_count": null,
   "id": "ebfce870",
   "metadata": {},
   "outputs": [],
   "source": [
    "driver=webdriver.Chrome(\"chromedriver.exe\")\n",
    "time.sleep(2)"
   ]
  },
  {
   "cell_type": "code",
   "execution_count": null,
   "id": "96bb3e41",
   "metadata": {},
   "outputs": [],
   "source": [
    "#Opening up naukri.com website on automated chrome window\n",
    "driver.get('https://www.ambitionbox.com/')"
   ]
  },
  {
   "cell_type": "code",
   "execution_count": null,
   "id": "c3975985",
   "metadata": {},
   "outputs": [],
   "source": [
    "#Click on the jobs category\n",
    "jobs_button=driver.find_element_by_xpath(\"/html/body/div[1]/nav/nav/a[6]\")\n",
    "jobs_button.click()"
   ]
  },
  {
   "cell_type": "code",
   "execution_count": null,
   "id": "34602c28",
   "metadata": {},
   "outputs": [],
   "source": [
    "#Find elements for job search bar\n",
    "search_field=driver.find_element_by_xpath('/html/body/div/div/div/div[2]/div[1]/div[1]/div/div/div/div/span/input')   #Job search bar\n",
    "search_field.send_keys(\"Data Scientist\")"
   ]
  },
  {
   "cell_type": "code",
   "execution_count": null,
   "id": "6ba05ee1",
   "metadata": {},
   "outputs": [],
   "source": [
    "#Click on search button\n",
    "search_button=driver.find_element_by_xpath(\"/html/body/div/div/div/div[2]/div[1]/div[1]/div/div/div/button\")\n",
    "search_button.click()"
   ]
  },
  {
   "cell_type": "code",
   "execution_count": null,
   "id": "37b54518",
   "metadata": {},
   "outputs": [],
   "source": [
    "#Check mark the location\n",
    "location_button=driver.find_element_by_xpath(\"/html/body/div/div/div/div[2]/div[1]/div[2]/div[1]/div/div/div/div[2]/div[1]\")\n",
    "location_button.click()"
   ]
  },
  {
   "cell_type": "code",
   "execution_count": null,
   "id": "5e5a0547",
   "metadata": {},
   "outputs": [],
   "source": [
    "#Enter the location to search\n",
    "search_location=driver.find_element_by_xpath('/html/body/div/div/div/div[2]/div[1]/div[2]/div[1]/div/div/div/div[2]/div[2]/div/div[2]/input')\n",
    "search_location.send_keys(\"Noida\")"
   ]
  },
  {
   "cell_type": "code",
   "execution_count": null,
   "id": "f1480ae1",
   "metadata": {},
   "outputs": [],
   "source": [
    "#Select the location from the dropdown\n",
    "radio_button=driver.find_element_by_xpath(\"/html/body/div/div/div/div[2]/div[1]/div[2]/div[1]/div/div/div/div[2]/div[2]/div/div[3]/div[1]/div[1]/div/input\")\n",
    "radio_button.click()"
   ]
  },
  {
   "cell_type": "code",
   "execution_count": null,
   "id": "1502574a",
   "metadata": {},
   "outputs": [],
   "source": [
    "#Extract the job details\n",
    "job_details=[]\n",
    "job_tags=driver.find_elements_by_xpath('//div[@class=\"info\"]')\n",
    "for i in job_tags:\n",
    "   # title=i.text\n",
    "    job_details.append(i.text)"
   ]
  },
  {
   "cell_type": "code",
   "execution_count": null,
   "id": "01198aec",
   "metadata": {},
   "outputs": [],
   "source": [
    "#Creating the data frame\n",
    "df=pd.DataFrame({'Top 10 Data Scientist Jobs in Noida':job_details[:10]})\n",
    "df"
   ]
  },
  {
   "cell_type": "code",
   "execution_count": null,
   "id": "15fe3650",
   "metadata": {},
   "outputs": [],
   "source": [
    "#Closing the automated chrome window\n",
    "driver.close()"
   ]
  },
  {
   "cell_type": "code",
   "execution_count": null,
   "id": "761e836c",
   "metadata": {},
   "outputs": [],
   "source": []
  },
  {
   "cell_type": "code",
   "execution_count": null,
   "id": "add1a65c",
   "metadata": {},
   "outputs": [],
   "source": []
  },
  {
   "cell_type": "markdown",
   "id": "cc0c4da2",
   "metadata": {},
   "source": [
    "# 10. a python program to scrape the salary data for Data Scientist designation.\n",
    "You have to scrape Company name, Number of salaries, Average salary, Minsalary, Max Salary. The above task will be, done as shown in the below steps:\n",
    "\n",
    "First get the webpage https://www.ambitionbox.com/\n",
    "Click on the salaries option as shown in the image."
   ]
  },
  {
   "cell_type": "code",
   "execution_count": null,
   "id": "d7e39d35",
   "metadata": {},
   "outputs": [],
   "source": [
    "! pip3 install selenium"
   ]
  },
  {
   "cell_type": "code",
   "execution_count": null,
   "id": "14b22c08",
   "metadata": {},
   "outputs": [],
   "source": [
    "import selenium\n",
    "import pandas as pd\n",
    "from selenium import webdriver\n",
    "import warnings\n",
    "warnings.filterwarnings(\"ignore\")\n",
    "import time"
   ]
  },
  {
   "cell_type": "code",
   "execution_count": null,
   "id": "16a70fe8",
   "metadata": {},
   "outputs": [],
   "source": [
    "#Lets first connect to the web driver\n",
    "driver=webdriver.Chrome(r\"C:\\chromedriver.exe\")"
   ]
  },
  {
   "cell_type": "code",
   "execution_count": null,
   "id": "09e50ee0",
   "metadata": {},
   "outputs": [],
   "source": [
    "driver=webdriver.Chrome(\"chromedriver.exe\")\n",
    "time.sleep(2)"
   ]
  },
  {
   "cell_type": "code",
   "execution_count": null,
   "id": "a7f39db4",
   "metadata": {},
   "outputs": [],
   "source": [
    "#Opening up naukri.com website on automated chrome window\n",
    "driver.get('https://www.ambitionbox.com/')"
   ]
  },
  {
   "cell_type": "code",
   "execution_count": null,
   "id": "fc4b2c4c",
   "metadata": {},
   "outputs": [],
   "source": [
    "#Click on the Salary category\n",
    "salaries_button=driver.find_element_by_xpath(\"/html/body/div[1]/nav/nav/a[4]\")\n",
    "salaries_button.click()"
   ]
  },
  {
   "cell_type": "code",
   "execution_count": null,
   "id": "ce045ebe",
   "metadata": {},
   "outputs": [],
   "source": [
    "#Search for the designation\n",
    "search_field=driver.find_element_by_xpath('/html/body/div/div/div/div[2]/div/div/div/div[1]/span/input')   #Job search bar\n",
    "search_field.send_keys(\"Data Scientist\")"
   ]
  },
  {
   "cell_type": "code",
   "execution_count": null,
   "id": "b139e2b8",
   "metadata": {},
   "outputs": [],
   "source": [
    "#Selecting the designation from drop down\n",
    "designation_button=driver.find_element_by_xpath('/html/body/div/div/div/div[2]/div/div/div/button/span')\n",
    "designation_button.click()"
   ]
  },
  {
   "cell_type": "code",
   "execution_count": null,
   "id": "f122ca2a",
   "metadata": {},
   "outputs": [],
   "source": [
    "#Declaring the variables\n",
    "company_name=[]\n",
    "salary_record=[]\n",
    "exp_details=[]\n",
    "avg_salary=[]\n",
    "min_max_salary=[]\n",
    "min_salary=[]\n",
    "max_salary=[]"
   ]
  },
  {
   "cell_type": "code",
   "execution_count": null,
   "id": "70050763",
   "metadata": {},
   "outputs": [],
   "source": [
    "#Extracting the data of company name\n",
    "company_tags=driver.find_elements_by_xpath('//div[@class=\"name\"]/a')\n",
    "for i in company_tags:\n",
    "    company_name.append(i.text)"
   ]
  },
  {
   "cell_type": "code",
   "execution_count": null,
   "id": "7461c377",
   "metadata": {},
   "outputs": [],
   "source": [
    "#Extracting the salary records \n",
    "records_tags=driver.find_elements_by_xpath('//span[@data-v-7f256731]')\n",
    "for i in records_tags:\n",
    "    salary_record.append(i.text)\n",
    "salary_record[0::2]\n",
    "exp_details=salary_record[1::2]"
   ]
  },
  {
   "cell_type": "code",
   "execution_count": null,
   "id": "666a134c",
   "metadata": {},
   "outputs": [],
   "source": [
    "#Extracting the data of avg salary \n",
    "avgsalary_tags=driver.find_elements_by_xpath('//p[@class=\"averageCtc\"]')\n",
    "for i in avgsalary_tags:\n",
    "    avg_salary.append(i.text)\n",
    "del avg_salary[:9]"
   ]
  },
  {
   "cell_type": "code",
   "execution_count": null,
   "id": "16f461ec",
   "metadata": {},
   "outputs": [],
   "source": [
    "#Extracting the data of min and max salary from the scale\n",
    "min_max_tags=driver.find_elements_by_xpath('//div[@class=\"value body-medium\"]')\n",
    "for i in min_max_tags:\n",
    "    min_max_salary.append(i.text)\n",
    "del min_max_salary[:18]"
   ]
  },
  {
   "cell_type": "code",
   "execution_count": null,
   "id": "09878b35",
   "metadata": {},
   "outputs": [],
   "source": [
    "min_salary=min_max_salary[0::2]\n",
    "max_salary=min_max_salary[1::2]"
   ]
  },
  {
   "cell_type": "code",
   "execution_count": null,
   "id": "93685998",
   "metadata": {},
   "outputs": [],
   "source": [
    "#Creating the data frame.\n",
    "df=pd.DataFrame({'Compary Name':company_name,'Salary Record':salary_record[0::2],'Experience':exp_details,\"Average Salary\":avg_salary,\"Minimum Salary\":min_salary,\"Maxium Salary\":max_salary})\n",
    "df"
   ]
  },
  {
   "cell_type": "code",
   "execution_count": null,
   "id": "e7a23df9",
   "metadata": {},
   "outputs": [],
   "source": [
    "#Closing the automated chrome window\n",
    "driver.close()"
   ]
  },
  {
   "cell_type": "code",
   "execution_count": null,
   "id": "73b4c09a",
   "metadata": {},
   "outputs": [],
   "source": []
  },
  {
   "cell_type": "code",
   "execution_count": null,
   "id": "7ddee0a8",
   "metadata": {},
   "outputs": [],
   "source": []
  },
  {
   "cell_type": "code",
   "execution_count": null,
   "id": "433d2d6f",
   "metadata": {},
   "outputs": [],
   "source": []
  },
  {
   "cell_type": "code",
   "execution_count": null,
   "id": "837b7df8",
   "metadata": {},
   "outputs": [],
   "source": []
  },
  {
   "cell_type": "code",
   "execution_count": null,
   "id": "1f9a6e1e",
   "metadata": {},
   "outputs": [],
   "source": []
  }
 ],
 "metadata": {
  "kernelspec": {
   "display_name": "Python 3",
   "language": "python",
   "name": "python3"
  },
  "language_info": {
   "codemirror_mode": {
    "name": "ipython",
    "version": 3
   },
   "file_extension": ".py",
   "mimetype": "text/x-python",
   "name": "python",
   "nbconvert_exporter": "python",
   "pygments_lexer": "ipython3",
   "version": "3.8.8"
  }
 },
 "nbformat": 4,
 "nbformat_minor": 5
}
