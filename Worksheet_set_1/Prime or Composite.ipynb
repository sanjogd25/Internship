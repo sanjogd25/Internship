{
 "cells": [
  {
   "cell_type": "code",
   "execution_count": null,
   "id": "fa489c6f",
   "metadata": {},
   "outputs": [],
   "source": [
    "#python program to find whether a number is prime or composite"
   ]
  },
  {
   "cell_type": "code",
   "execution_count": 4,
   "id": "67a20e1c",
   "metadata": {},
   "outputs": [
    {
     "name": "stdout",
     "output_type": "stream",
     "text": [
      "Enter a number to check: 8\n",
      "The number is a composite number.\n"
     ]
    }
   ],
   "source": [
    "#input the number from the user\n",
    "Input=int(input(\"Enter a number to check: \"))\n",
    "count=0\n",
    "\n",
    "for Number in range(1,Input+1):\n",
    "    Remainder=Input%Number\n",
    "    if (Remainder==0):\n",
    "        count=count+1\n",
    "\n",
    "if (count==1):\n",
    "    print(\"The number is neither prime nor composite.\")\n",
    "        \n",
    "if(count==2):\n",
    "    print(\"The number is a prime number.\")\n",
    "\n",
    "elif(count>=3):\n",
    "    print(\"The number is a composite number.\")"
   ]
  },
  {
   "cell_type": "code",
   "execution_count": null,
   "id": "17b34f26",
   "metadata": {},
   "outputs": [],
   "source": []
  }
 ],
 "metadata": {
  "kernelspec": {
   "display_name": "Python 3",
   "language": "python",
   "name": "python3"
  },
  "language_info": {
   "codemirror_mode": {
    "name": "ipython",
    "version": 3
   },
   "file_extension": ".py",
   "mimetype": "text/x-python",
   "name": "python",
   "nbconvert_exporter": "python",
   "pygments_lexer": "ipython3",
   "version": "3.8.8"
  }
 },
 "nbformat": 4,
 "nbformat_minor": 5
}
